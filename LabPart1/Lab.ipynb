{
 "cells": [
  {
   "cell_type": "markdown",
   "id": "573be311-6dcd-4232-8071-eea0cf363cc6",
   "metadata": {},
   "source": [
    "Lab based on: https://datahack.analyticsvidhya.com/contest/practice-problem-loan-prediction-iii/#About"
   ]
  },
  {
   "cell_type": "markdown",
   "id": "8eff5914-1a27-4636-80a3-52ce31e68b70",
   "metadata": {},
   "source": [
    "# Step 1 : Reading and understanding Train and Test Data set¶\n"
   ]
  },
  {
   "cell_type": "code",
   "execution_count": 1,
   "id": "8a68e8db-ca64-4924-b28f-1f60b5a5c67a",
   "metadata": {},
   "outputs": [
    {
     "name": "stdout",
     "output_type": "stream",
     "text": [
      "Requirement already satisfied: seaborn in c:\\users\\samhe\\anaconda3\\lib\\site-packages (0.12.2)\n",
      "Requirement already satisfied: numpy!=1.24.0,>=1.17 in c:\\users\\samhe\\anaconda3\\lib\\site-packages (from seaborn) (1.24.3)\n",
      "Requirement already satisfied: pandas>=0.25 in c:\\users\\samhe\\anaconda3\\lib\\site-packages (from seaborn) (2.0.3)\n",
      "Requirement already satisfied: matplotlib!=3.6.1,>=3.1 in c:\\users\\samhe\\anaconda3\\lib\\site-packages (from seaborn) (3.7.2)\n",
      "Requirement already satisfied: contourpy>=1.0.1 in c:\\users\\samhe\\anaconda3\\lib\\site-packages (from matplotlib!=3.6.1,>=3.1->seaborn) (1.0.5)\n",
      "Requirement already satisfied: cycler>=0.10 in c:\\users\\samhe\\anaconda3\\lib\\site-packages (from matplotlib!=3.6.1,>=3.1->seaborn) (0.11.0)\n",
      "Requirement already satisfied: fonttools>=4.22.0 in c:\\users\\samhe\\anaconda3\\lib\\site-packages (from matplotlib!=3.6.1,>=3.1->seaborn) (4.25.0)\n",
      "Requirement already satisfied: kiwisolver>=1.0.1 in c:\\users\\samhe\\anaconda3\\lib\\site-packages (from matplotlib!=3.6.1,>=3.1->seaborn) (1.4.4)\n",
      "Requirement already satisfied: packaging>=20.0 in c:\\users\\samhe\\anaconda3\\lib\\site-packages (from matplotlib!=3.6.1,>=3.1->seaborn) (23.1)\n",
      "Requirement already satisfied: pillow>=6.2.0 in c:\\users\\samhe\\anaconda3\\lib\\site-packages (from matplotlib!=3.6.1,>=3.1->seaborn) (9.4.0)\n",
      "Requirement already satisfied: pyparsing<3.1,>=2.3.1 in c:\\users\\samhe\\anaconda3\\lib\\site-packages (from matplotlib!=3.6.1,>=3.1->seaborn) (3.0.9)\n",
      "Requirement already satisfied: python-dateutil>=2.7 in c:\\users\\samhe\\anaconda3\\lib\\site-packages (from matplotlib!=3.6.1,>=3.1->seaborn) (2.8.2)\n",
      "Requirement already satisfied: pytz>=2020.1 in c:\\users\\samhe\\anaconda3\\lib\\site-packages (from pandas>=0.25->seaborn) (2023.3.post1)\n",
      "Requirement already satisfied: tzdata>=2022.1 in c:\\users\\samhe\\anaconda3\\lib\\site-packages (from pandas>=0.25->seaborn) (2023.3)\n",
      "Requirement already satisfied: six>=1.5 in c:\\users\\samhe\\anaconda3\\lib\\site-packages (from python-dateutil>=2.7->matplotlib!=3.6.1,>=3.1->seaborn) (1.16.0)\n"
     ]
    }
   ],
   "source": [
    "!pip install seaborn"
   ]
  },
  {
   "cell_type": "code",
   "execution_count": 2,
   "id": "dd4df876-55de-4a2b-80d4-9dd4f5c24df5",
   "metadata": {},
   "outputs": [
    {
     "data": {
      "text/html": [
       "<div>\n",
       "<style scoped>\n",
       "    .dataframe tbody tr th:only-of-type {\n",
       "        vertical-align: middle;\n",
       "    }\n",
       "\n",
       "    .dataframe tbody tr th {\n",
       "        vertical-align: top;\n",
       "    }\n",
       "\n",
       "    .dataframe thead th {\n",
       "        text-align: right;\n",
       "    }\n",
       "</style>\n",
       "<table border=\"1\" class=\"dataframe\">\n",
       "  <thead>\n",
       "    <tr style=\"text-align: right;\">\n",
       "      <th></th>\n",
       "      <th>Loan_ID</th>\n",
       "      <th>Gender</th>\n",
       "      <th>Married</th>\n",
       "      <th>Dependents</th>\n",
       "      <th>Education</th>\n",
       "      <th>Self_Employed</th>\n",
       "      <th>ApplicantIncome</th>\n",
       "      <th>CoapplicantIncome</th>\n",
       "      <th>LoanAmount</th>\n",
       "      <th>Loan_Amount_Term</th>\n",
       "      <th>Credit_History</th>\n",
       "      <th>Property_Area</th>\n",
       "      <th>Loan_Status</th>\n",
       "    </tr>\n",
       "  </thead>\n",
       "  <tbody>\n",
       "    <tr>\n",
       "      <th>0</th>\n",
       "      <td>LP001002</td>\n",
       "      <td>Male</td>\n",
       "      <td>No</td>\n",
       "      <td>0</td>\n",
       "      <td>Graduate</td>\n",
       "      <td>No</td>\n",
       "      <td>5849</td>\n",
       "      <td>0.0</td>\n",
       "      <td>NaN</td>\n",
       "      <td>360.0</td>\n",
       "      <td>1.0</td>\n",
       "      <td>Urban</td>\n",
       "      <td>Y</td>\n",
       "    </tr>\n",
       "    <tr>\n",
       "      <th>1</th>\n",
       "      <td>LP001003</td>\n",
       "      <td>Male</td>\n",
       "      <td>Yes</td>\n",
       "      <td>1</td>\n",
       "      <td>Graduate</td>\n",
       "      <td>No</td>\n",
       "      <td>4583</td>\n",
       "      <td>1508.0</td>\n",
       "      <td>128.0</td>\n",
       "      <td>360.0</td>\n",
       "      <td>1.0</td>\n",
       "      <td>Rural</td>\n",
       "      <td>N</td>\n",
       "    </tr>\n",
       "    <tr>\n",
       "      <th>2</th>\n",
       "      <td>LP001005</td>\n",
       "      <td>Male</td>\n",
       "      <td>Yes</td>\n",
       "      <td>0</td>\n",
       "      <td>Graduate</td>\n",
       "      <td>Yes</td>\n",
       "      <td>3000</td>\n",
       "      <td>0.0</td>\n",
       "      <td>66.0</td>\n",
       "      <td>360.0</td>\n",
       "      <td>1.0</td>\n",
       "      <td>Urban</td>\n",
       "      <td>Y</td>\n",
       "    </tr>\n",
       "    <tr>\n",
       "      <th>3</th>\n",
       "      <td>LP001006</td>\n",
       "      <td>Male</td>\n",
       "      <td>Yes</td>\n",
       "      <td>0</td>\n",
       "      <td>Not Graduate</td>\n",
       "      <td>No</td>\n",
       "      <td>2583</td>\n",
       "      <td>2358.0</td>\n",
       "      <td>120.0</td>\n",
       "      <td>360.0</td>\n",
       "      <td>1.0</td>\n",
       "      <td>Urban</td>\n",
       "      <td>Y</td>\n",
       "    </tr>\n",
       "    <tr>\n",
       "      <th>4</th>\n",
       "      <td>LP001008</td>\n",
       "      <td>Male</td>\n",
       "      <td>No</td>\n",
       "      <td>0</td>\n",
       "      <td>Graduate</td>\n",
       "      <td>No</td>\n",
       "      <td>6000</td>\n",
       "      <td>0.0</td>\n",
       "      <td>141.0</td>\n",
       "      <td>360.0</td>\n",
       "      <td>1.0</td>\n",
       "      <td>Urban</td>\n",
       "      <td>Y</td>\n",
       "    </tr>\n",
       "  </tbody>\n",
       "</table>\n",
       "</div>"
      ],
      "text/plain": [
       "    Loan_ID Gender Married Dependents     Education Self_Employed  \\\n",
       "0  LP001002   Male      No          0      Graduate            No   \n",
       "1  LP001003   Male     Yes          1      Graduate            No   \n",
       "2  LP001005   Male     Yes          0      Graduate           Yes   \n",
       "3  LP001006   Male     Yes          0  Not Graduate            No   \n",
       "4  LP001008   Male      No          0      Graduate            No   \n",
       "\n",
       "   ApplicantIncome  CoapplicantIncome  LoanAmount  Loan_Amount_Term  \\\n",
       "0             5849                0.0         NaN             360.0   \n",
       "1             4583             1508.0       128.0             360.0   \n",
       "2             3000                0.0        66.0             360.0   \n",
       "3             2583             2358.0       120.0             360.0   \n",
       "4             6000                0.0       141.0             360.0   \n",
       "\n",
       "   Credit_History Property_Area Loan_Status  \n",
       "0             1.0         Urban           Y  \n",
       "1             1.0         Rural           N  \n",
       "2             1.0         Urban           Y  \n",
       "3             1.0         Urban           Y  \n",
       "4             1.0         Urban           Y  "
      ]
     },
     "execution_count": 2,
     "metadata": {},
     "output_type": "execute_result"
    }
   ],
   "source": [
    "#Loading Packages\n",
    "import pandas as pd \n",
    "import numpy as np                     # For mathematical calculations \n",
    "import seaborn as sns                  # For data visualization \n",
    "import matplotlib.pyplot as plt        # For plotting graphs \n",
    "%matplotlib inline \n",
    "import warnings                        # To ignore any warnings warnings.filterwarnings(\"ignore\")\n",
    "\n",
    "train_original = pd.read_csv(\"input/train_ctrUa4K.csv\")\n",
    "train = train_original\n",
    "train.head()\n",
    "\n"
   ]
  },
  {
   "cell_type": "code",
   "execution_count": 3,
   "id": "303f0c40-eb99-4370-ac63-b4efce0f7e65",
   "metadata": {},
   "outputs": [
    {
     "data": {
      "text/plain": [
       "Index(['Loan_ID', 'Gender', 'Married', 'Dependents', 'Education',\n",
       "       'Self_Employed', 'ApplicantIncome', 'CoapplicantIncome', 'LoanAmount',\n",
       "       'Loan_Amount_Term', 'Credit_History', 'Property_Area', 'Loan_Status'],\n",
       "      dtype='object')"
      ]
     },
     "execution_count": 3,
     "metadata": {},
     "output_type": "execute_result"
    }
   ],
   "source": [
    "#Reading the name of columns in data set \n",
    "train.columns"
   ]
  },
  {
   "cell_type": "code",
   "execution_count": 4,
   "id": "534c9d7e-45fe-48a9-b47a-3dea9536af1f",
   "metadata": {},
   "outputs": [
    {
     "data": {
      "text/html": [
       "<div>\n",
       "<style scoped>\n",
       "    .dataframe tbody tr th:only-of-type {\n",
       "        vertical-align: middle;\n",
       "    }\n",
       "\n",
       "    .dataframe tbody tr th {\n",
       "        vertical-align: top;\n",
       "    }\n",
       "\n",
       "    .dataframe thead th {\n",
       "        text-align: right;\n",
       "    }\n",
       "</style>\n",
       "<table border=\"1\" class=\"dataframe\">\n",
       "  <thead>\n",
       "    <tr style=\"text-align: right;\">\n",
       "      <th></th>\n",
       "      <th>Loan_ID</th>\n",
       "      <th>Gender</th>\n",
       "      <th>Married</th>\n",
       "      <th>Dependents</th>\n",
       "      <th>Education</th>\n",
       "      <th>Self_Employed</th>\n",
       "      <th>ApplicantIncome</th>\n",
       "      <th>CoapplicantIncome</th>\n",
       "      <th>LoanAmount</th>\n",
       "      <th>Loan_Amount_Term</th>\n",
       "      <th>Credit_History</th>\n",
       "      <th>Property_Area</th>\n",
       "    </tr>\n",
       "  </thead>\n",
       "  <tbody>\n",
       "    <tr>\n",
       "      <th>0</th>\n",
       "      <td>LP001015</td>\n",
       "      <td>Male</td>\n",
       "      <td>Yes</td>\n",
       "      <td>0</td>\n",
       "      <td>Graduate</td>\n",
       "      <td>No</td>\n",
       "      <td>5720</td>\n",
       "      <td>0</td>\n",
       "      <td>110.0</td>\n",
       "      <td>360.0</td>\n",
       "      <td>1.0</td>\n",
       "      <td>Urban</td>\n",
       "    </tr>\n",
       "    <tr>\n",
       "      <th>1</th>\n",
       "      <td>LP001022</td>\n",
       "      <td>Male</td>\n",
       "      <td>Yes</td>\n",
       "      <td>1</td>\n",
       "      <td>Graduate</td>\n",
       "      <td>No</td>\n",
       "      <td>3076</td>\n",
       "      <td>1500</td>\n",
       "      <td>126.0</td>\n",
       "      <td>360.0</td>\n",
       "      <td>1.0</td>\n",
       "      <td>Urban</td>\n",
       "    </tr>\n",
       "    <tr>\n",
       "      <th>2</th>\n",
       "      <td>LP001031</td>\n",
       "      <td>Male</td>\n",
       "      <td>Yes</td>\n",
       "      <td>2</td>\n",
       "      <td>Graduate</td>\n",
       "      <td>No</td>\n",
       "      <td>5000</td>\n",
       "      <td>1800</td>\n",
       "      <td>208.0</td>\n",
       "      <td>360.0</td>\n",
       "      <td>1.0</td>\n",
       "      <td>Urban</td>\n",
       "    </tr>\n",
       "    <tr>\n",
       "      <th>3</th>\n",
       "      <td>LP001035</td>\n",
       "      <td>Male</td>\n",
       "      <td>Yes</td>\n",
       "      <td>2</td>\n",
       "      <td>Graduate</td>\n",
       "      <td>No</td>\n",
       "      <td>2340</td>\n",
       "      <td>2546</td>\n",
       "      <td>100.0</td>\n",
       "      <td>360.0</td>\n",
       "      <td>NaN</td>\n",
       "      <td>Urban</td>\n",
       "    </tr>\n",
       "    <tr>\n",
       "      <th>4</th>\n",
       "      <td>LP001051</td>\n",
       "      <td>Male</td>\n",
       "      <td>No</td>\n",
       "      <td>0</td>\n",
       "      <td>Not Graduate</td>\n",
       "      <td>No</td>\n",
       "      <td>3276</td>\n",
       "      <td>0</td>\n",
       "      <td>78.0</td>\n",
       "      <td>360.0</td>\n",
       "      <td>1.0</td>\n",
       "      <td>Urban</td>\n",
       "    </tr>\n",
       "  </tbody>\n",
       "</table>\n",
       "</div>"
      ],
      "text/plain": [
       "    Loan_ID Gender Married Dependents     Education Self_Employed  \\\n",
       "0  LP001015   Male     Yes          0      Graduate            No   \n",
       "1  LP001022   Male     Yes          1      Graduate            No   \n",
       "2  LP001031   Male     Yes          2      Graduate            No   \n",
       "3  LP001035   Male     Yes          2      Graduate            No   \n",
       "4  LP001051   Male      No          0  Not Graduate            No   \n",
       "\n",
       "   ApplicantIncome  CoapplicantIncome  LoanAmount  Loan_Amount_Term  \\\n",
       "0             5720                  0       110.0             360.0   \n",
       "1             3076               1500       126.0             360.0   \n",
       "2             5000               1800       208.0             360.0   \n",
       "3             2340               2546       100.0             360.0   \n",
       "4             3276                  0        78.0             360.0   \n",
       "\n",
       "   Credit_History Property_Area  \n",
       "0             1.0         Urban  \n",
       "1             1.0         Urban  \n",
       "2             1.0         Urban  \n",
       "3             NaN         Urban  \n",
       "4             1.0         Urban  "
      ]
     },
     "execution_count": 4,
     "metadata": {},
     "output_type": "execute_result"
    }
   ],
   "source": [
    "test = pd.read_csv(\"input/test_lAUu6dG.csv\")\n",
    "test.head()"
   ]
  },
  {
   "cell_type": "code",
   "execution_count": 5,
   "id": "92fc7949-08b2-4d77-9147-4bc49dd195bf",
   "metadata": {},
   "outputs": [
    {
     "data": {
      "text/plain": [
       "Index(['Loan_ID', 'Gender', 'Married', 'Dependents', 'Education',\n",
       "       'Self_Employed', 'ApplicantIncome', 'CoapplicantIncome', 'LoanAmount',\n",
       "       'Loan_Amount_Term', 'Credit_History', 'Property_Area'],\n",
       "      dtype='object')"
      ]
     },
     "execution_count": 5,
     "metadata": {},
     "output_type": "execute_result"
    }
   ],
   "source": [
    "#Reading the name of columns in data set \n",
    "test.columns"
   ]
  },
  {
   "cell_type": "markdown",
   "id": "b96dabb6-d67a-49d1-8cac-ac1a1fe4fbc8",
   "metadata": {},
   "source": [
    "# What are the data types present in the data?"
   ]
  },
  {
   "cell_type": "markdown",
   "id": "7db687b9-85b3-4ec6-9d68-4903522eadf3",
   "metadata": {},
   "source": [
    "R: Los tipos de datos presentes en la base de datos desde Loan_ID hasta Self_Employed son de tipo object que en este caso representan una String, AplicantIncome y CoapplicantIncome son Integer, desde LoanAmount hasta Credit_History son Float y por último Property_Area es de tipo object (String)."
   ]
  },
  {
   "cell_type": "code",
   "execution_count": 6,
   "id": "4498b174",
   "metadata": {},
   "outputs": [
    {
     "data": {
      "text/plain": [
       "Loan_ID               object\n",
       "Gender                object\n",
       "Married               object\n",
       "Dependents            object\n",
       "Education             object\n",
       "Self_Employed         object\n",
       "ApplicantIncome        int64\n",
       "CoapplicantIncome    float64\n",
       "LoanAmount           float64\n",
       "Loan_Amount_Term     float64\n",
       "Credit_History       float64\n",
       "Property_Area         object\n",
       "Loan_Status           object\n",
       "dtype: object"
      ]
     },
     "execution_count": 6,
     "metadata": {},
     "output_type": "execute_result"
    }
   ],
   "source": [
    "train.dtypes"
   ]
  },
  {
   "cell_type": "markdown",
   "id": "ab9c0eee",
   "metadata": {},
   "source": [
    "# Count, and treat outliers and missing values"
   ]
  },
  {
   "cell_type": "code",
   "execution_count": 7,
   "id": "3d4c5c0c",
   "metadata": {},
   "outputs": [
    {
     "data": {
      "text/plain": [
       "Loan_ID               0\n",
       "Gender               13\n",
       "Married               3\n",
       "Dependents           15\n",
       "Education             0\n",
       "Self_Employed        32\n",
       "ApplicantIncome       0\n",
       "CoapplicantIncome     0\n",
       "LoanAmount           22\n",
       "Loan_Amount_Term     14\n",
       "Credit_History       50\n",
       "Property_Area         0\n",
       "Loan_Status           0\n",
       "dtype: int64"
      ]
     },
     "execution_count": 7,
     "metadata": {},
     "output_type": "execute_result"
    }
   ],
   "source": [
    "missing_values = train.isna().sum()\n",
    "missing_values"
   ]
  },
  {
   "cell_type": "code",
   "execution_count": 8,
   "id": "3ed4df28",
   "metadata": {},
   "outputs": [],
   "source": [
    "gender_mode = train['Gender'].mode()[0]\n",
    "married_mode = train['Married'].mode()[0]\n",
    "self_employed_mode = train['Self_Employed'].mode()[0]\n",
    "dependents_mode = train['Dependents'].mode()[0]\n",
    "credit_history_mode = train['Credit_History'].mode()[0]"
   ]
  },
  {
   "cell_type": "code",
   "execution_count": 9,
   "id": "3f01732a",
   "metadata": {},
   "outputs": [],
   "source": [
    "train['Gender'] = train['Gender'].fillna(gender_mode)\n",
    "train['Married'] = train['Married'].fillna(married_mode)\n",
    "train['Self_Employed'] = train['Self_Employed'].fillna(self_employed_mode)\n",
    "train['Dependents'] = train['Dependents'].fillna(dependents_mode)\n",
    "train['Credit_History'] = train['Credit_History'].fillna(credit_history_mode)"
   ]
  },
  {
   "cell_type": "code",
   "execution_count": 10,
   "id": "772854f1",
   "metadata": {},
   "outputs": [],
   "source": [
    "loan_amount_mean = train['LoanAmount'].mean()\n",
    "loan_amount_term_mean = train['Loan_Amount_Term'].mean()"
   ]
  },
  {
   "cell_type": "code",
   "execution_count": 11,
   "id": "d238fb70",
   "metadata": {},
   "outputs": [],
   "source": [
    "train['LoanAmount'] = train['LoanAmount'].fillna(loan_amount_mean)\n",
    "train['Loan_Amount_Term'] = train['Loan_Amount_Term'].fillna(loan_amount_term_mean)"
   ]
  },
  {
   "cell_type": "code",
   "execution_count": 12,
   "id": "a69cefa5",
   "metadata": {},
   "outputs": [
    {
     "data": {
      "text/plain": [
       "Loan_ID              0\n",
       "Gender               0\n",
       "Married              0\n",
       "Dependents           0\n",
       "Education            0\n",
       "Self_Employed        0\n",
       "ApplicantIncome      0\n",
       "CoapplicantIncome    0\n",
       "LoanAmount           0\n",
       "Loan_Amount_Term     0\n",
       "Credit_History       0\n",
       "Property_Area        0\n",
       "Loan_Status          0\n",
       "dtype: int64"
      ]
     },
     "execution_count": 12,
     "metadata": {},
     "output_type": "execute_result"
    }
   ],
   "source": [
    "missing_values = train.isna().sum()\n",
    "missing_values"
   ]
  },
  {
   "cell_type": "markdown",
   "id": "6a600977",
   "metadata": {},
   "source": [
    "# Format Correction"
   ]
  },
  {
   "cell_type": "code",
   "execution_count": 13,
   "id": "60d54440",
   "metadata": {},
   "outputs": [],
   "source": [
    "train = train.convert_dtypes()"
   ]
  },
  {
   "cell_type": "code",
   "execution_count": 14,
   "id": "f98202dc",
   "metadata": {},
   "outputs": [],
   "source": [
    "train['Dependents'] = train['Dependents'].replace('3+', '3')\n",
    "\n",
    "train['Dependents'] = train['Dependents'].astype('Int64')\n",
    "train['Loan_Amount_Term'] = train['Loan_Amount_Term'].astype('Int64')\n",
    "train['CoapplicantIncome'] = train['CoapplicantIncome'].astype('Int64')\n",
    "train['LoanAmount'] = train['LoanAmount'].astype('Int64')\n",
    "train['Credit_History']= train['Credit_History'].astype('string[python]')"
   ]
  },
  {
   "cell_type": "code",
   "execution_count": 15,
   "id": "cfdae9f1",
   "metadata": {},
   "outputs": [
    {
     "data": {
      "text/plain": [
       "Loan_ID              string[python]\n",
       "Gender               string[python]\n",
       "Married              string[python]\n",
       "Dependents                    Int64\n",
       "Education            string[python]\n",
       "Self_Employed        string[python]\n",
       "ApplicantIncome               Int64\n",
       "CoapplicantIncome             Int64\n",
       "LoanAmount                    Int64\n",
       "Loan_Amount_Term              Int64\n",
       "Credit_History       string[python]\n",
       "Property_Area        string[python]\n",
       "Loan_Status          string[python]\n",
       "dtype: object"
      ]
     },
     "execution_count": 15,
     "metadata": {},
     "output_type": "execute_result"
    }
   ],
   "source": [
    "train.dtypes"
   ]
  },
  {
   "cell_type": "markdown",
   "id": "73211f27-e09c-4954-b344-a7363996e9b5",
   "metadata": {},
   "source": [
    "\n",
    "# Univariate Analysis\n",
    "It is the simplest form of analyzing data where we examine each variable individually. For categorical features we can use frequency table or bar plots which will calculate the number of each category in a particular variable. For numerical features, probability density plots can be used to look at the distribution of the variable\n",
    "\n",
    "## visualize features of the data set by graph and get the analysis\n",
    "\n",
    "## Study categorical features such as Gender, Married, Self_Employed and Credit_History\n",
    "\n",
    "## visualize the numerical variables: distribution of Applicant income first."
   ]
  },
  {
   "cell_type": "markdown",
   "id": "b2ea5579",
   "metadata": {},
   "source": [
    "# Gender"
   ]
  },
  {
   "cell_type": "code",
   "execution_count": 16,
   "id": "1bef1ac3",
   "metadata": {},
   "outputs": [
    {
     "data": {
      "image/png": "[encoded data removed]",
      "text/plain": [
       "<Figure size 800x600 with 1 Axes>"
      ]
     },
     "metadata": {},
     "output_type": "display_data"
    }
   ],
   "source": [
    "plt.figure(figsize=(8, 6))\n",
    "sns.countplot(x='Gender', data=train)\n",
    "plt.title('Count of Applicants by Gender')\n",
    "plt.xlabel('Gender')\n",
    "plt.ylabel('Count')\n",
    "plt.grid(axis='y')\n",
    "plt.show()"
   ]
  },
  {
   "cell_type": "code",
   "execution_count": 17,
   "id": "26538bd2",
   "metadata": {},
   "outputs": [
    {
     "data": {
      "text/plain": [
       "Gender\n",
       "Male      502\n",
       "Female    112\n",
       "Name: count, dtype: Int64"
      ]
     },
     "execution_count": 17,
     "metadata": {},
     "output_type": "execute_result"
    }
   ],
   "source": [
    "gender_frequency = train['Gender'].value_counts()\n",
    "gender_frequency"
   ]
  },
  {
   "cell_type": "markdown",
   "id": "f23b5464",
   "metadata": {},
   "source": [
    "# Married"
   ]
  },
  {
   "cell_type": "code",
   "execution_count": 18,
   "id": "10bf0244",
   "metadata": {},
   "outputs": [
    {
     "data": {
      "image/png": "[encoded data removed]",
      "text/plain": [
       "<Figure size 800x600 with 1 Axes>"
      ]
     },
     "metadata": {},
     "output_type": "display_data"
    }
   ],
   "source": [
    "plt.figure(figsize=(8, 6))\n",
    "sns.countplot(x='Married', data=train)\n",
    "plt.title('Count of Married Applicants')\n",
    "plt.xlabel('Married')\n",
    "plt.ylabel('Count')\n",
    "plt.grid(axis='y')\n",
    "plt.show()"
   ]
  },
  {
   "cell_type": "code",
   "execution_count": 19,
   "id": "2bb30740",
   "metadata": {},
   "outputs": [
    {
     "data": {
      "text/plain": [
       "Married\n",
       "Yes    401\n",
       "No     213\n",
       "Name: count, dtype: Int64"
      ]
     },
     "execution_count": 19,
     "metadata": {},
     "output_type": "execute_result"
    }
   ],
   "source": [
    "married_frequency = train['Married'].value_counts()\n",
    "married_frequency"
   ]
  },
  {
   "cell_type": "markdown",
   "id": "93b915c7",
   "metadata": {},
   "source": [
    "# Self Employed"
   ]
  },
  {
   "cell_type": "code",
   "execution_count": 20,
   "id": "4e2567e5",
   "metadata": {},
   "outputs": [
    {
     "data": {
      "image/png": "[encoded data removed]",
      "text/plain": [
       "<Figure size 800x600 with 1 Axes>"
      ]
     },
     "metadata": {},
     "output_type": "display_data"
    }
   ],
   "source": [
    "plt.figure(figsize=(8, 6))\n",
    "sns.countplot(x='Self_Employed', data=train)\n",
    "plt.title('Count of Self Employed Applicants')\n",
    "plt.xlabel('Self Employed')\n",
    "plt.ylabel('Count')\n",
    "plt.grid(axis='y')\n",
    "plt.show()"
   ]
  },
  {
   "cell_type": "code",
   "execution_count": 21,
   "id": "73f3728d",
   "metadata": {},
   "outputs": [
    {
     "data": {
      "text/plain": [
       "Self_Employed\n",
       "No     532\n",
       "Yes     82\n",
       "Name: count, dtype: Int64"
      ]
     },
     "execution_count": 21,
     "metadata": {},
     "output_type": "execute_result"
    }
   ],
   "source": [
    "self_employed_frequency = train['Self_Employed'].value_counts()\n",
    "self_employed_frequency"
   ]
  },
  {
   "cell_type": "markdown",
   "id": "ee47d749",
   "metadata": {},
   "source": [
    "# Credit History"
   ]
  },
  {
   "cell_type": "code",
   "execution_count": 22,
   "id": "51a09399",
   "metadata": {},
   "outputs": [
    {
     "data": {
      "image/png": "[encoded data removed]",
      "text/plain": [
       "<Figure size 800x600 with 1 Axes>"
      ]
     },
     "metadata": {},
     "output_type": "display_data"
    }
   ],
   "source": [
    "plt.figure(figsize=(8, 6))\n",
    "sns.countplot(x='Credit_History', data=train)\n",
    "plt.title('Count of Applicants by Credit History')\n",
    "plt.xlabel('Credit History')\n",
    "plt.ylabel('Count')\n",
    "plt.grid(axis='y')\n",
    "plt.show()"
   ]
  },
  {
   "cell_type": "code",
   "execution_count": 23,
   "id": "c9d94361",
   "metadata": {},
   "outputs": [
    {
     "data": {
      "text/plain": [
       "Credit_History\n",
       "1    525\n",
       "0     89\n",
       "Name: count, dtype: Int64"
      ]
     },
     "execution_count": 23,
     "metadata": {},
     "output_type": "execute_result"
    }
   ],
   "source": [
    "credit_history_frequency = train['Credit_History'].value_counts()\n",
    "credit_history_frequency"
   ]
  },
  {
   "cell_type": "markdown",
   "id": "9af2f3b2",
   "metadata": {},
   "source": [
    "# Applicant Income"
   ]
  },
  {
   "cell_type": "code",
   "execution_count": 27,
   "id": "3a75a79d-193c-42bc-ad72-1e8175cc519c",
   "metadata": {},
   "outputs": [
    {
     "name": "stderr",
     "output_type": "stream",
     "text": [
      "C:\\Users\\samhe\\AppData\\Local\\Temp\\ipykernel_22428\\2112431605.py:2: UserWarning: \n",
      "\n",
      "`distplot` is a deprecated function and will be removed in seaborn v0.14.0.\n",
      "\n",
      "Please adapt your code to use either `displot` (a figure-level function with\n",
      "similar flexibility) or `histplot` (an axes-level function for histograms).\n",
      "\n",
      "For a guide to updating your code to use the new functions, please see\n",
      "https://gist.github.com/mwaskom/de44147ed2974457ad6372750bbe5751\n",
      "\n",
      "  sns.distplot(train['ApplicantIncome'], bins=30, color='blue', kde=True)\n"
     ]
    },
    {
     "data": {
      "image/png": "[encoded data removed]",
      "text/plain": [
       "<Figure size 1000x600 with 1 Axes>"
      ]
     },
     "metadata": {},
     "output_type": "display_data"
    }
   ],
   "source": [
    "plt.figure(figsize=(10, 6))\n",
    "sns.distplot(train['ApplicantIncome'], bins=30, color='blue', kde=True)\n",
    "plt.title('Distribution of Applicant Income')\n",
    "plt.xlabel('Income')\n",
    "plt.ylabel('Density')\n",
    "plt.show()\n"
   ]
  },
  {
   "cell_type": "code",
   "execution_count": null,
   "id": "103a0658",
   "metadata": {},
   "outputs": [],
   "source": [
    "applicant_income_stats = train['ApplicantIncome'].describe()\n",
    "\n",
    "skewness = train['ApplicantIncome'].skew()\n",
    "kurtosis = train['ApplicantIncome'].kurt()\n",
    "\n",
    "(applicant_income_stats, skewness, kurtosis)"
   ]
  },
  {
   "cell_type": "markdown",
   "id": "254f79ff-6d5d-4d59-b417-e2f94281cbab",
   "metadata": {},
   "source": [
    "# Bivariate Analysis\n",
    "Analyse the independent variable with respect to target variable. \n",
    "\n",
    "## Use bar plots to vizualice Gender vs Loan_Status, Education vs Loan_Status, Property_Area vs Loan_Status\n",
    "\n",
    "## identify the most correlated variables to Loan_Status\n",
    "\n",
    "## Identify, count and treat outliers and missing values"
   ]
  },
  {
   "cell_type": "markdown",
   "id": "ddf7e1e4",
   "metadata": {},
   "source": [
    "# Gender vs Loan Status"
   ]
  },
  {
   "cell_type": "code",
   "execution_count": null,
   "id": "67f31756-5aab-4373-84a3-20cd9189ec5b",
   "metadata": {},
   "outputs": [],
   "source": [
    "plt.figure(figsize=(8, 6))\n",
    "sns.countplot(x='Gender', hue='Loan_Status', data=train)\n",
    "plt.title('Loan Status by Gender')\n",
    "plt.xlabel('Gender')\n",
    "plt.ylabel('Count')\n",
    "plt.grid(axis='y')\n",
    "plt.show()"
   ]
  },
  {
   "cell_type": "code",
   "execution_count": null,
   "id": "55438110",
   "metadata": {},
   "outputs": [],
   "source": [
    "gender_loan_status = train.groupby('Gender')['Loan_Status'].value_counts(normalize=True).unstack() * 100\n",
    "gender_loan_status"
   ]
  },
  {
   "cell_type": "markdown",
   "id": "9ca7c5d0",
   "metadata": {},
   "source": [
    "# Education vs Loan Status"
   ]
  },
  {
   "cell_type": "code",
   "execution_count": null,
   "id": "054a6a12-2b14-419b-9b48-7595a13bc621",
   "metadata": {},
   "outputs": [],
   "source": [
    "plt.figure(figsize=(8, 6))\n",
    "sns.countplot(x='Education', hue='Loan_Status', data=train)\n",
    "plt.title('Loan Status by Education')\n",
    "plt.xlabel('Education')\n",
    "plt.ylabel('Count')\n",
    "plt.grid(axis='y')\n",
    "plt.show()"
   ]
  },
  {
   "cell_type": "code",
   "execution_count": null,
   "id": "9b8a2136",
   "metadata": {},
   "outputs": [],
   "source": [
    "education_loan_status = train.groupby('Education')['Loan_Status'].value_counts(normalize=True).unstack() * 100\n",
    "education_loan_status"
   ]
  },
  {
   "cell_type": "markdown",
   "id": "ca012379",
   "metadata": {},
   "source": [
    "# Property Area vs Loan Status"
   ]
  },
  {
   "cell_type": "code",
   "execution_count": null,
   "id": "8cb70875",
   "metadata": {},
   "outputs": [],
   "source": [
    "plt.figure(figsize=(8, 6))\n",
    "sns.countplot(x='Property_Area', hue='Loan_Status', data=train)\n",
    "plt.title('Loan Status by Property Area')\n",
    "plt.xlabel('Property Area')\n",
    "plt.ylabel('Count')\n",
    "plt.grid(axis='y')\n",
    "plt.show()"
   ]
  },
  {
   "cell_type": "code",
   "execution_count": null,
   "id": "c6c96330",
   "metadata": {},
   "outputs": [],
   "source": [
    "property_area_loan_status = train.groupby('Property_Area')['Loan_Status'].value_counts(normalize=True).unstack() * 100\n",
    "property_area_loan_status"
   ]
  },
  {
   "cell_type": "markdown",
   "id": "f773eddd",
   "metadata": {},
   "source": [
    "# Correlation Matrix"
   ]
  },
  {
   "cell_type": "code",
   "execution_count": null,
   "id": "9e895c52",
   "metadata": {},
   "outputs": [],
   "source": [
    "train['Loan_Status_numeric'] = train['Loan_Status'].map({'Y': 1, 'N': 0})\n",
    "\n",
    "\n",
    "train['Gender_numeric'] = train['Gender'].map({'Male': 1, 'Female': 0})\n",
    "train['Married_numeric'] = train['Married'].map({'Yes': 1, 'No': 0})\n",
    "train['Education_numeric'] = train['Education'].map({'Graduate': 1, 'Not Graduate': 0})\n",
    "train['Self_Employed_numeric'] = train['Self_Employed'].map({'Yes': 1, 'No': 0})\n",
    "train['Property_Area_numeric'] = train['Property_Area'].map({'Urban': 2, 'Semi Urban': 1, 'Rural': 0})\n",
    "\n",
    "\n",
    "correlation_matrix = train.corr(numeric_only=True)\n",
    "\n",
    "plt.figure(figsize=(12, 8))\n",
    "sns.heatmap(correlation_matrix, annot=True, fmt=\".2f\", cmap='coolwarm')\n",
    "plt.title('Correlation Matrix of Variables')\n",
    "plt.show()"
   ]
  },
  {
   "cell_type": "code",
   "execution_count": null,
   "id": "42ccd53c",
   "metadata": {},
   "outputs": [],
   "source": [
    "loan_status_correlations = correlation_matrix['Loan_Status_numeric'].sort_values(ascending=False)\n",
    "\n",
    "loan_status_correlations = loan_status_correlations.drop('Loan_Status_numeric')\n",
    "\n",
    "loan_status_correlations"
   ]
  },
  {
   "cell_type": "markdown",
   "id": "d3f1bf5a",
   "metadata": {},
   "source": [
    "La variable más correlacionada con Loan_Status es Credit_History"
   ]
  },
  {
   "cell_type": "markdown",
   "id": "56e3f896",
   "metadata": {},
   "source": []
  },
  {
   "cell_type": "code",
   "execution_count": null,
   "id": "4b82528b",
   "metadata": {
    "scrolled": true
   },
   "outputs": [],
   "source": []
  },
  {
   "cell_type": "code",
   "execution_count": null,
   "id": "6096e398",
   "metadata": {},
   "outputs": [],
   "source": []
  },
  {
   "cell_type": "code",
   "execution_count": null,
   "id": "13df57bd",
   "metadata": {},
   "outputs": [],
   "source": []
  },
  {
   "cell_type": "code",
   "execution_count": null,
   "id": "6288e6bd",
   "metadata": {},
   "outputs": [],
   "source": []
  },
  {
   "cell_type": "code",
   "execution_count": null,
   "id": "2e63ad0a",
   "metadata": {},
   "outputs": [],
   "source": []
  },
  {
   "cell_type": "code",
   "execution_count": null,
   "id": "e34af53d",
   "metadata": {},
   "outputs": [],
   "source": []
  },
  {
   "cell_type": "code",
   "execution_count": null,
   "id": "7f66dbdd",
   "metadata": {},
   "outputs": [],
   "source": []
  },
  {
   "cell_type": "markdown",
   "id": "86d9b29b-f9ea-4de9-beec-a38fa4e527d9",
   "metadata": {},
   "source": [
    "# Model Building \n",
    "\n",
    "## Using the train dataset you should be able to select the best model. \n",
    "## Use feature selection\n",
    "## Cross validation\n",
    "## Try different models such as:\n",
    "\n",
    "1) Decision Tree Classifier\n",
    "2) Random Forest Classifier\n",
    "3) K-Nearest-Neighbors\n",
    "4) Support Vector Classifier\n",
    "5) XGBoost"
   ]
  },
  {
   "cell_type": "code",
   "execution_count": null,
   "id": "7427ac3c-bb46-4cc1-85bc-9b6320101e84",
   "metadata": {},
   "outputs": [],
   "source": []
  },
  {
   "cell_type": "markdown",
   "id": "52abc49b-7f0f-483c-bf30-e94a7c3785c8",
   "metadata": {},
   "source": [
    "The test dataset doesn't have target. You are provided with a sample submition file. It is necesary to generate such a file with the two best models you have and attach it to your report. "
   ]
  }
 ],
 "metadata": {
  "kernelspec": {
   "display_name": "Python 3 (ipykernel)",
   "language": "python",
   "name": "python3"
  },
  "language_info": {
   "codemirror_mode": {
    "name": "ipython",
    "version": 3
   },
   "file_extension": ".py",
   "mimetype": "text/x-python",
   "name": "python",
   "nbconvert_exporter": "python",
   "pygments_lexer": "ipython3",
   "version": "3.11.5"
  }
 },
 "nbformat": 4,
 "nbformat_minor": 5
}
