{
 "cells": [
  {
   "cell_type": "markdown",
   "metadata": {
    "id": "9_zdfpXvdyGV"
   },
   "source": [
    "#**Laboratorio #2: ¡Colocando en práctica algunos modelos de aprendizaje supervisado**!"
   ]
  },
  {
   "cell_type": "markdown",
   "metadata": {
    "id": "eGvZHCFJL9eP"
   },
   "source": [
    "##**Acerca del proyecto**\n",
    "Hoy en día todos los comercios ofrecen sistemas de afiliaciones para sus clientes, esto con el fin de brindarles descuentos y mejorar su experiencia de compra por medio de la aplicación de distintas estrategias de marketing. Ahora bien, supongamos que eres propietario de un supermercado muy reconocido, y a lo largo de los años, has podido recolectar algunos datos básicos sobre tus clientes, tales como su número de identificación, edad, sexo, ingresos anuales y **puntuación de gasto** (un número asignado a partir del comportamiento del cliente y sus datos de compra).\n",
    "\n",
    "Tu objetivo será encontrar aquellos clientes que podrían llegar a ser fieles a tu negocio, es decir que pueden alcanzar una **puntuación o valor de gasto altos**. Por ello, ten en cuenta que estas serán las **variables target** durante todo este proyecto, y toda la información que encuentres será util para que tu equipo de marketing tenga una idea de la situación del mercado, y posteriormente planifique estrategias que atraigan a estos clientes.\n",
    "\n",
    "Nota: el valor de gasto será una variable que calcularás más adelante, por eso no la encontrarás en la tabla que sigue.\n",
    "\n",
    "##**Sobre el dataset**\n",
    "###**Mall_Customers.csv**\n",
    "Se trata de una colección de 812 registros de clientes y 5 columnas que contienen la siguiente información demográfica:\n",
    "\n",
    "| Columna | Descripción |\n",
    "|--------|-------------|\n",
    "| `CustomerID` | número entero que identifica a un cliente |\n",
    "| `Gender` | variable categórica que indica el sexo del cliente (male/female)|\n",
    "| `Age` | número entero que indica la edad del cliente|\n",
    "| `Annual Income (k$)` | número entero que indica los ingresos del cliente en miles de dólares |\n",
    "| `Spending Score (1-100)` | número entero del 1 al 100, donde los valores más altos indican un mayor comportamiento de gasto. |\n",
    "\n",
    "\n",
    "\n",
    "![](https://www.aimtechnologies.co/wp-content/uploads/2023/09/customer-segmentation-social.png)"
   ]
  },
  {
   "cell_type": "markdown",
   "metadata": {
    "id": "viyqDr9AnTbx"
   },
   "source": [
    "#**¡Manos a la obra!**"
   ]
  },
  {
   "cell_type": "markdown",
   "metadata": {
    "id": "VVfAZ37H0C73"
   },
   "source": [
    "## **Importa las librerías necesarias**"
   ]
  },
  {
   "cell_type": "code",
   "execution_count": 1,
   "metadata": {
    "id": "JAhPGhHcL0wD"
   },
   "outputs": [],
   "source": [
    "# Escribe el código necesario para importar pandas, matplotlib (pyplot en específico), numpy y seaborn. Además, agrega los alias de pd, plt, np y sb, respectivamente.\n",
    "import seaborn as sb\n",
    "import matplotlib.pyplot as plt\n",
    "import pandas as pd\n",
    "import numpy as np"
   ]
  },
  {
   "cell_type": "markdown",
   "metadata": {
    "id": "znF_WdVp0cqG"
   },
   "source": [
    "## **Carga el dataset**\n",
    "Crea un DataFrame llamado `costumers_df`, a partir del archivo CSV llamado `\"Mall_Costumers.csv\"`. Ten en cuenta el ambiente en donde estes trabajando este notebook (Google Colab o Jupyter)."
   ]
  },
  {
   "cell_type": "code",
   "execution_count": 2,
   "metadata": {
    "id": "roqxTF1gomLk"
   },
   "outputs": [],
   "source": [
    "# Escribe aquí el código necesario\n",
    "costumers_df = pd.read_csv('Mall_Costumers.csv')"
   ]
  },
  {
   "cell_type": "markdown",
   "metadata": {
    "id": "LDbgrXmmpDZW"
   },
   "source": [
    "##**Vista preliminar del dataset**"
   ]
  },
  {
   "cell_type": "code",
   "execution_count": 3,
   "metadata": {
    "id": "_kdcAVDS0m13"
   },
   "outputs": [
    {
     "data": {
      "text/plain": [
       "(812, 5)"
      ]
     },
     "execution_count": 3,
     "metadata": {},
     "output_type": "execute_result"
    }
   ],
   "source": [
    "# Averigua el tamaño del dataset.\n",
    "costumers_df.shape"
   ]
  },
  {
   "cell_type": "code",
   "execution_count": 4,
   "metadata": {
    "id": "S158rnZh0puG"
   },
   "outputs": [
    {
     "name": "stdout",
     "output_type": "stream",
     "text": [
      "<class 'pandas.core.frame.DataFrame'>\n",
      "RangeIndex: 812 entries, 0 to 811\n",
      "Data columns (total 5 columns):\n",
      " #   Column                  Non-Null Count  Dtype \n",
      "---  ------                  --------------  ----- \n",
      " 0   CustomerID              812 non-null    int64 \n",
      " 1   Gender                  812 non-null    object\n",
      " 2   Age                     812 non-null    object\n",
      " 3   Annual Income (k$)      812 non-null    object\n",
      " 4   Spending Score (1-100)  812 non-null    object\n",
      "dtypes: int64(1), object(4)\n",
      "memory usage: 31.8+ KB\n"
     ]
    }
   ],
   "source": [
    "# Revisa los tipos de datos y la cantidad de valores no nulos para cada columna.\n",
    "costumers_df.info()"
   ]
  },
  {
   "cell_type": "code",
   "execution_count": 5,
   "metadata": {
    "id": "xIBQG2dLL_eV"
   },
   "outputs": [
    {
     "data": {
      "text/html": [
       "<div>\n",
       "<style scoped>\n",
       "    .dataframe tbody tr th:only-of-type {\n",
       "        vertical-align: middle;\n",
       "    }\n",
       "\n",
       "    .dataframe tbody tr th {\n",
       "        vertical-align: top;\n",
       "    }\n",
       "\n",
       "    .dataframe thead th {\n",
       "        text-align: right;\n",
       "    }\n",
       "</style>\n",
       "<table border=\"1\" class=\"dataframe\">\n",
       "  <thead>\n",
       "    <tr style=\"text-align: right;\">\n",
       "      <th></th>\n",
       "      <th>CustomerID</th>\n",
       "      <th>Gender</th>\n",
       "      <th>Age</th>\n",
       "      <th>Annual Income (k$)</th>\n",
       "      <th>Spending Score (1-100)</th>\n",
       "    </tr>\n",
       "  </thead>\n",
       "  <tbody>\n",
       "    <tr>\n",
       "      <th>0</th>\n",
       "      <td>1099188127</td>\n",
       "      <td>Male</td>\n",
       "      <td>19</td>\n",
       "      <td>15</td>\n",
       "      <td>39</td>\n",
       "    </tr>\n",
       "    <tr>\n",
       "      <th>1</th>\n",
       "      <td>1100189128</td>\n",
       "      <td>Male</td>\n",
       "      <td>21</td>\n",
       "      <td>15</td>\n",
       "      <td>81</td>\n",
       "    </tr>\n",
       "    <tr>\n",
       "      <th>2</th>\n",
       "      <td>1101190129</td>\n",
       "      <td>Female</td>\n",
       "      <td>20</td>\n",
       "      <td>16</td>\n",
       "      <td>6</td>\n",
       "    </tr>\n",
       "    <tr>\n",
       "      <th>3</th>\n",
       "      <td>1102191130</td>\n",
       "      <td>Female</td>\n",
       "      <td>23</td>\n",
       "      <td>16</td>\n",
       "      <td>77</td>\n",
       "    </tr>\n",
       "    <tr>\n",
       "      <th>4</th>\n",
       "      <td>1103192131</td>\n",
       "      <td>Female</td>\n",
       "      <td>31</td>\n",
       "      <td>17</td>\n",
       "      <td>40</td>\n",
       "    </tr>\n",
       "  </tbody>\n",
       "</table>\n",
       "</div>"
      ],
      "text/plain": [
       "   CustomerID  Gender Age Annual Income (k$) Spending Score (1-100)\n",
       "0  1099188127    Male  19                 15                     39\n",
       "1  1100189128    Male  21                 15                     81\n",
       "2  1101190129  Female  20                 16                      6\n",
       "3  1102191130  Female  23                 16                     77\n",
       "4  1103192131  Female  31                 17                     40"
      ]
     },
     "execution_count": 5,
     "metadata": {},
     "output_type": "execute_result"
    }
   ],
   "source": [
    "# Visualiza las primeras cinco filas del data frame.\n",
    "costumers_df.head()"
   ]
  },
  {
   "cell_type": "code",
   "execution_count": 6,
   "metadata": {
    "id": "tHj76Mp-1WvW"
   },
   "outputs": [
    {
     "data": {
      "text/html": [
       "<div>\n",
       "<style scoped>\n",
       "    .dataframe tbody tr th:only-of-type {\n",
       "        vertical-align: middle;\n",
       "    }\n",
       "\n",
       "    .dataframe tbody tr th {\n",
       "        vertical-align: top;\n",
       "    }\n",
       "\n",
       "    .dataframe thead th {\n",
       "        text-align: right;\n",
       "    }\n",
       "</style>\n",
       "<table border=\"1\" class=\"dataframe\">\n",
       "  <thead>\n",
       "    <tr style=\"text-align: right;\">\n",
       "      <th></th>\n",
       "      <th>CustomerID</th>\n",
       "      <th>Gender</th>\n",
       "      <th>Age</th>\n",
       "      <th>Annual Income (k$)</th>\n",
       "      <th>Spending Score (1-100)</th>\n",
       "    </tr>\n",
       "  </thead>\n",
       "  <tbody>\n",
       "    <tr>\n",
       "      <th>807</th>\n",
       "      <td>1906995934</td>\n",
       "      <td>Female</td>\n",
       "      <td>62</td>\n",
       "      <td>57</td>\n",
       "      <td>?</td>\n",
       "    </tr>\n",
       "    <tr>\n",
       "      <th>808</th>\n",
       "      <td>1907996935</td>\n",
       "      <td>Female</td>\n",
       "      <td>44</td>\n",
       "      <td>79</td>\n",
       "      <td>?</td>\n",
       "    </tr>\n",
       "    <tr>\n",
       "      <th>809</th>\n",
       "      <td>1908997936</td>\n",
       "      <td>Female</td>\n",
       "      <td>23</td>\n",
       "      <td>94</td>\n",
       "      <td>?</td>\n",
       "    </tr>\n",
       "    <tr>\n",
       "      <th>810</th>\n",
       "      <td>1909998937</td>\n",
       "      <td>Female</td>\n",
       "      <td>55</td>\n",
       "      <td>78</td>\n",
       "      <td>?</td>\n",
       "    </tr>\n",
       "    <tr>\n",
       "      <th>811</th>\n",
       "      <td>1910999938</td>\n",
       "      <td>Male</td>\n",
       "      <td>29</td>\n",
       "      <td>118</td>\n",
       "      <td>?</td>\n",
       "    </tr>\n",
       "  </tbody>\n",
       "</table>\n",
       "</div>"
      ],
      "text/plain": [
       "     CustomerID  Gender Age Annual Income (k$) Spending Score (1-100)\n",
       "807  1906995934  Female  62                 57                      ?\n",
       "808  1907996935  Female  44                 79                      ?\n",
       "809  1908997936  Female  23                 94                      ?\n",
       "810  1909998937  Female  55                 78                      ?\n",
       "811  1910999938    Male  29                118                      ?"
      ]
     },
     "execution_count": 6,
     "metadata": {},
     "output_type": "execute_result"
    }
   ],
   "source": [
    "# Visualiza las últimas cinco filas del data frame.\n",
    "costumers_df.tail()"
   ]
  },
  {
   "cell_type": "markdown",
   "metadata": {
    "id": "q29V22Sd3GLW"
   },
   "source": [
    "## **Limpieza del dataset**\n",
    "Propone una limpieza que incluya los siguientes pasos:\n",
    "* Eliminación de datos repetidos\n",
    "* Identificación de valores perdidos\n",
    "* Lidiar con valores perdidos\n",
    "* Corregir formato de datos"
   ]
  },
  {
   "cell_type": "markdown",
   "metadata": {
    "id": "UORmm_V3voUb"
   },
   "source": [
    "###**Eliminar datos repetidos**"
   ]
  },
  {
   "cell_type": "code",
   "execution_count": 7,
   "metadata": {
    "id": "zbYWpeBC3SRM"
   },
   "outputs": [
    {
     "data": {
      "text/html": [
       "<div>\n",
       "<style scoped>\n",
       "    .dataframe tbody tr th:only-of-type {\n",
       "        vertical-align: middle;\n",
       "    }\n",
       "\n",
       "    .dataframe tbody tr th {\n",
       "        vertical-align: top;\n",
       "    }\n",
       "\n",
       "    .dataframe thead th {\n",
       "        text-align: right;\n",
       "    }\n",
       "</style>\n",
       "<table border=\"1\" class=\"dataframe\">\n",
       "  <thead>\n",
       "    <tr style=\"text-align: right;\">\n",
       "      <th></th>\n",
       "      <th>CustomerID</th>\n",
       "      <th>Gender</th>\n",
       "      <th>Age</th>\n",
       "      <th>Annual Income (k$)</th>\n",
       "      <th>Spending Score (1-100)</th>\n",
       "    </tr>\n",
       "  </thead>\n",
       "  <tbody>\n",
       "    <tr>\n",
       "      <th>0</th>\n",
       "      <td>1099188127</td>\n",
       "      <td>Male</td>\n",
       "      <td>19</td>\n",
       "      <td>15</td>\n",
       "      <td>39</td>\n",
       "    </tr>\n",
       "    <tr>\n",
       "      <th>1</th>\n",
       "      <td>1100189128</td>\n",
       "      <td>Male</td>\n",
       "      <td>21</td>\n",
       "      <td>15</td>\n",
       "      <td>81</td>\n",
       "    </tr>\n",
       "    <tr>\n",
       "      <th>2</th>\n",
       "      <td>1101190129</td>\n",
       "      <td>Female</td>\n",
       "      <td>20</td>\n",
       "      <td>16</td>\n",
       "      <td>6</td>\n",
       "    </tr>\n",
       "    <tr>\n",
       "      <th>3</th>\n",
       "      <td>1102191130</td>\n",
       "      <td>Female</td>\n",
       "      <td>23</td>\n",
       "      <td>16</td>\n",
       "      <td>77</td>\n",
       "    </tr>\n",
       "    <tr>\n",
       "      <th>4</th>\n",
       "      <td>1103192131</td>\n",
       "      <td>Female</td>\n",
       "      <td>31</td>\n",
       "      <td>17</td>\n",
       "      <td>40</td>\n",
       "    </tr>\n",
       "    <tr>\n",
       "      <th>...</th>\n",
       "      <td>...</td>\n",
       "      <td>...</td>\n",
       "      <td>...</td>\n",
       "      <td>...</td>\n",
       "      <td>...</td>\n",
       "    </tr>\n",
       "    <tr>\n",
       "      <th>807</th>\n",
       "      <td>1906995934</td>\n",
       "      <td>Female</td>\n",
       "      <td>62</td>\n",
       "      <td>57</td>\n",
       "      <td>?</td>\n",
       "    </tr>\n",
       "    <tr>\n",
       "      <th>808</th>\n",
       "      <td>1907996935</td>\n",
       "      <td>Female</td>\n",
       "      <td>44</td>\n",
       "      <td>79</td>\n",
       "      <td>?</td>\n",
       "    </tr>\n",
       "    <tr>\n",
       "      <th>809</th>\n",
       "      <td>1908997936</td>\n",
       "      <td>Female</td>\n",
       "      <td>23</td>\n",
       "      <td>94</td>\n",
       "      <td>?</td>\n",
       "    </tr>\n",
       "    <tr>\n",
       "      <th>810</th>\n",
       "      <td>1909998937</td>\n",
       "      <td>Female</td>\n",
       "      <td>55</td>\n",
       "      <td>78</td>\n",
       "      <td>?</td>\n",
       "    </tr>\n",
       "    <tr>\n",
       "      <th>811</th>\n",
       "      <td>1910999938</td>\n",
       "      <td>Male</td>\n",
       "      <td>29</td>\n",
       "      <td>118</td>\n",
       "      <td>?</td>\n",
       "    </tr>\n",
       "  </tbody>\n",
       "</table>\n",
       "<p>812 rows × 5 columns</p>\n",
       "</div>"
      ],
      "text/plain": [
       "     CustomerID  Gender Age Annual Income (k$) Spending Score (1-100)\n",
       "0    1099188127    Male  19                 15                     39\n",
       "1    1100189128    Male  21                 15                     81\n",
       "2    1101190129  Female  20                 16                      6\n",
       "3    1102191130  Female  23                 16                     77\n",
       "4    1103192131  Female  31                 17                     40\n",
       "..          ...     ...  ..                ...                    ...\n",
       "807  1906995934  Female  62                 57                      ?\n",
       "808  1907996935  Female  44                 79                      ?\n",
       "809  1908997936  Female  23                 94                      ?\n",
       "810  1909998937  Female  55                 78                      ?\n",
       "811  1910999938    Male  29                118                      ?\n",
       "\n",
       "[812 rows x 5 columns]"
      ]
     },
     "execution_count": 7,
     "metadata": {},
     "output_type": "execute_result"
    }
   ],
   "source": [
    "#Trabaja SIEMPRE sobre una copia profunda del dataset original, llamala df_copy\n",
    "df_copy = costumers_df\n",
    "df_copy"
   ]
  },
  {
   "cell_type": "code",
   "execution_count": 8,
   "metadata": {},
   "outputs": [],
   "source": [
    "df_copy = df_copy.drop(columns=['CustomerID'])"
   ]
  },
  {
   "cell_type": "code",
   "execution_count": 9,
   "metadata": {
    "id": "BeECrsmy3XTF"
   },
   "outputs": [
    {
     "data": {
      "text/plain": [
       "12"
      ]
     },
     "execution_count": 9,
     "metadata": {},
     "output_type": "execute_result"
    }
   ],
   "source": [
    "# Determina el número de filas duplicadas del dataframe y elimínalas si es necesario.\n",
    "df_copy.duplicated().sum()"
   ]
  },
  {
   "cell_type": "code",
   "execution_count": 10,
   "metadata": {
    "id": "eU4FHDoFwaoU"
   },
   "outputs": [],
   "source": [
    "#Verifica la eliminación de las filas duplicadas (si es necesario)\n"
   ]
  },
  {
   "cell_type": "markdown",
   "metadata": {
    "id": "BJvaI34dwlYV"
   },
   "source": [
    "###**Identificar valores perdidos**\n",
    "* ***Convertir \"?\" a NaN:*** para que pandas reconozca la existencia de valores perdidos que tienen el símbolo \"?\" dentro del *data frame*, es necesario marcarlos como tal. En este caso, el marcador predeterminado que utiliza Python es **NaN (Not a Number)**."
   ]
  },
  {
   "cell_type": "code",
   "execution_count": 11,
   "metadata": {
    "id": "R8WCOVJlwmWT"
   },
   "outputs": [
    {
     "data": {
      "text/html": [
       "<div>\n",
       "<style scoped>\n",
       "    .dataframe tbody tr th:only-of-type {\n",
       "        vertical-align: middle;\n",
       "    }\n",
       "\n",
       "    .dataframe tbody tr th {\n",
       "        vertical-align: top;\n",
       "    }\n",
       "\n",
       "    .dataframe thead th {\n",
       "        text-align: right;\n",
       "    }\n",
       "</style>\n",
       "<table border=\"1\" class=\"dataframe\">\n",
       "  <thead>\n",
       "    <tr style=\"text-align: right;\">\n",
       "      <th></th>\n",
       "      <th>Gender</th>\n",
       "      <th>Age</th>\n",
       "      <th>Annual Income (k$)</th>\n",
       "      <th>Spending Score (1-100)</th>\n",
       "    </tr>\n",
       "  </thead>\n",
       "  <tbody>\n",
       "    <tr>\n",
       "      <th>0</th>\n",
       "      <td>Male</td>\n",
       "      <td>19</td>\n",
       "      <td>15</td>\n",
       "      <td>39</td>\n",
       "    </tr>\n",
       "    <tr>\n",
       "      <th>1</th>\n",
       "      <td>Male</td>\n",
       "      <td>21</td>\n",
       "      <td>15</td>\n",
       "      <td>81</td>\n",
       "    </tr>\n",
       "    <tr>\n",
       "      <th>2</th>\n",
       "      <td>Female</td>\n",
       "      <td>20</td>\n",
       "      <td>16</td>\n",
       "      <td>6</td>\n",
       "    </tr>\n",
       "    <tr>\n",
       "      <th>3</th>\n",
       "      <td>Female</td>\n",
       "      <td>23</td>\n",
       "      <td>16</td>\n",
       "      <td>77</td>\n",
       "    </tr>\n",
       "    <tr>\n",
       "      <th>4</th>\n",
       "      <td>Female</td>\n",
       "      <td>31</td>\n",
       "      <td>17</td>\n",
       "      <td>40</td>\n",
       "    </tr>\n",
       "    <tr>\n",
       "      <th>...</th>\n",
       "      <td>...</td>\n",
       "      <td>...</td>\n",
       "      <td>...</td>\n",
       "      <td>...</td>\n",
       "    </tr>\n",
       "    <tr>\n",
       "      <th>807</th>\n",
       "      <td>Female</td>\n",
       "      <td>62</td>\n",
       "      <td>57</td>\n",
       "      <td>NaN</td>\n",
       "    </tr>\n",
       "    <tr>\n",
       "      <th>808</th>\n",
       "      <td>Female</td>\n",
       "      <td>44</td>\n",
       "      <td>79</td>\n",
       "      <td>NaN</td>\n",
       "    </tr>\n",
       "    <tr>\n",
       "      <th>809</th>\n",
       "      <td>Female</td>\n",
       "      <td>23</td>\n",
       "      <td>94</td>\n",
       "      <td>NaN</td>\n",
       "    </tr>\n",
       "    <tr>\n",
       "      <th>810</th>\n",
       "      <td>Female</td>\n",
       "      <td>55</td>\n",
       "      <td>78</td>\n",
       "      <td>NaN</td>\n",
       "    </tr>\n",
       "    <tr>\n",
       "      <th>811</th>\n",
       "      <td>Male</td>\n",
       "      <td>29</td>\n",
       "      <td>118</td>\n",
       "      <td>NaN</td>\n",
       "    </tr>\n",
       "  </tbody>\n",
       "</table>\n",
       "<p>812 rows × 4 columns</p>\n",
       "</div>"
      ],
      "text/plain": [
       "     Gender Age Annual Income (k$) Spending Score (1-100)\n",
       "0      Male  19                 15                     39\n",
       "1      Male  21                 15                     81\n",
       "2    Female  20                 16                      6\n",
       "3    Female  23                 16                     77\n",
       "4    Female  31                 17                     40\n",
       "..      ...  ..                ...                    ...\n",
       "807  Female  62                 57                    NaN\n",
       "808  Female  44                 79                    NaN\n",
       "809  Female  23                 94                    NaN\n",
       "810  Female  55                 78                    NaN\n",
       "811    Male  29                118                    NaN\n",
       "\n",
       "[812 rows x 4 columns]"
      ]
     },
     "execution_count": 11,
     "metadata": {},
     "output_type": "execute_result"
    }
   ],
   "source": [
    "# Escribe el código necesario para cumplir lo anterior.\n",
    "# Visualiza las últimas filas del dataframe para ver los cambios\n",
    "df_copy = df_copy.replace('?',np.nan)\n",
    "df_copy"
   ]
  },
  {
   "cell_type": "markdown",
   "metadata": {
    "id": "nR6mSmEywtxP"
   },
   "source": [
    "* ***Evaluar la cantidad de datos perdidos:*** una vez convertidos los datos perdidos a los valores predeterminados de Python, pasamos a utilizar funciones integradas de Python que nos permiten identificar estos datos"
   ]
  },
  {
   "cell_type": "code",
   "execution_count": 12,
   "metadata": {
    "id": "FbPrIKVmwyJO"
   },
   "outputs": [
    {
     "data": {
      "text/plain": [
       "Gender                     0\n",
       "Age                       10\n",
       "Annual Income (k$)        30\n",
       "Spending Score (1-100)    60\n",
       "dtype: int64"
      ]
     },
     "execution_count": 12,
     "metadata": {},
     "output_type": "execute_result"
    }
   ],
   "source": [
    "# Suma la cantidad de valores faltantes o nulos por cada variable del dataframe\n",
    "df_copy.isna().sum()"
   ]
  },
  {
   "cell_type": "markdown",
   "metadata": {
    "id": "qBUBBk3JxIv5"
   },
   "source": [
    "###**Lidiar con valores perdidos**\n",
    "Cuando tenemos un *dataset* con valores perdidos, podemos tomar las siguientes decisiones:\n",
    "\n",
    "* Eliminar datos:\n",
    " *   Eliminar toda la(s) fila(s)\n",
    " *   Eliminar toda la columna\n",
    "\n",
    "* Reemplazar datos:\n",
    " *   Reemplazar por la media (o promedio)\n",
    " *   Reemplazar por la frecuencia\n",
    " *   Reemplazar en función de otras funciones\n",
    "\n",
    "Colocar en práctica al menos 2 de los anteriores métodos y **justifica** porque decidiste utilizarlos."
   ]
  },
  {
   "cell_type": "code",
   "execution_count": 13,
   "metadata": {
    "id": "7SJoDbDLxIam"
   },
   "outputs": [],
   "source": [
    "#Lidiar con valores faltantes de la columna Age\n",
    "age_mode = df_copy['Age'].mode()[0]\n",
    "df_copy['Age'].fillna(age_mode, inplace=True)"
   ]
  },
  {
   "cell_type": "code",
   "execution_count": 14,
   "metadata": {
    "id": "aXpIpjeOKggP"
   },
   "outputs": [
    {
     "data": {
      "text/plain": [
       "0"
      ]
     },
     "execution_count": 14,
     "metadata": {},
     "output_type": "execute_result"
    }
   ],
   "source": [
    "#Verifa los cambios realizados a la columna Age\n",
    "df_copy['Age'].isna().sum()"
   ]
  },
  {
   "cell_type": "code",
   "execution_count": 15,
   "metadata": {
    "id": "Pun0ed2g9zAO"
   },
   "outputs": [],
   "source": [
    "#Lidiar con valores faltantes de la columna Annual Income (k$)\n",
    "df_copy['Annual Income (k$)'] = pd.to_numeric(df_copy['Annual Income (k$)'], errors='coerce')\n",
    "income_mean = round(df_copy['Annual Income (k$)'].mean())\n",
    "df_copy['Annual Income (k$)'].fillna(income_mean, inplace=True)"
   ]
  },
  {
   "cell_type": "code",
   "execution_count": 16,
   "metadata": {
    "id": "9aNRwu2NDxow"
   },
   "outputs": [
    {
     "data": {
      "text/plain": [
       "0"
      ]
     },
     "execution_count": 16,
     "metadata": {},
     "output_type": "execute_result"
    }
   ],
   "source": [
    "#Verifa los cambios realizados a la columna Annual Income (k$)\n",
    "df_copy['Annual Income (k$)'].isna().sum()"
   ]
  },
  {
   "cell_type": "code",
   "execution_count": 17,
   "metadata": {
    "id": "vJx4vZE892b2"
   },
   "outputs": [],
   "source": [
    "#Lidiar con valores faltantes de la columna Spending Score (1-100)\n",
    "df_copy.dropna(subset=['Spending Score (1-100)'], inplace=True)"
   ]
  },
  {
   "cell_type": "code",
   "execution_count": 18,
   "metadata": {
    "id": "e4CC4KloK1jE"
   },
   "outputs": [
    {
     "data": {
      "text/plain": [
       "0"
      ]
     },
     "execution_count": 18,
     "metadata": {},
     "output_type": "execute_result"
    }
   ],
   "source": [
    "#Verifa los cambios realizados a la columna Spending Score (1-100)\n",
    "df_copy['Spending Score (1-100)'].isna().sum()"
   ]
  },
  {
   "cell_type": "code",
   "execution_count": 19,
   "metadata": {},
   "outputs": [],
   "source": [
    "df_copy = df_copy.reset_index(drop=True)"
   ]
  },
  {
   "cell_type": "code",
   "execution_count": 20,
   "metadata": {
    "id": "oS4Do6nAEvTh"
   },
   "outputs": [
    {
     "data": {
      "text/html": [
       "<div>\n",
       "<style scoped>\n",
       "    .dataframe tbody tr th:only-of-type {\n",
       "        vertical-align: middle;\n",
       "    }\n",
       "\n",
       "    .dataframe tbody tr th {\n",
       "        vertical-align: top;\n",
       "    }\n",
       "\n",
       "    .dataframe thead th {\n",
       "        text-align: right;\n",
       "    }\n",
       "</style>\n",
       "<table border=\"1\" class=\"dataframe\">\n",
       "  <thead>\n",
       "    <tr style=\"text-align: right;\">\n",
       "      <th></th>\n",
       "      <th>Gender</th>\n",
       "      <th>Age</th>\n",
       "      <th>Annual Income (k$)</th>\n",
       "      <th>Spending Score (1-100)</th>\n",
       "    </tr>\n",
       "  </thead>\n",
       "  <tbody>\n",
       "    <tr>\n",
       "      <th>652</th>\n",
       "      <td>Female</td>\n",
       "      <td>33</td>\n",
       "      <td>41.0</td>\n",
       "      <td>66</td>\n",
       "    </tr>\n",
       "    <tr>\n",
       "      <th>653</th>\n",
       "      <td>Male</td>\n",
       "      <td>43</td>\n",
       "      <td>106.0</td>\n",
       "      <td>60</td>\n",
       "    </tr>\n",
       "    <tr>\n",
       "      <th>654</th>\n",
       "      <td>Male</td>\n",
       "      <td>55</td>\n",
       "      <td>99.0</td>\n",
       "      <td>60</td>\n",
       "    </tr>\n",
       "    <tr>\n",
       "      <th>655</th>\n",
       "      <td>Male</td>\n",
       "      <td>33</td>\n",
       "      <td>51.0</td>\n",
       "      <td>77</td>\n",
       "    </tr>\n",
       "    <tr>\n",
       "      <th>656</th>\n",
       "      <td>Female</td>\n",
       "      <td>70</td>\n",
       "      <td>109.0</td>\n",
       "      <td>66</td>\n",
       "    </tr>\n",
       "    <tr>\n",
       "      <th>...</th>\n",
       "      <td>...</td>\n",
       "      <td>...</td>\n",
       "      <td>...</td>\n",
       "      <td>...</td>\n",
       "    </tr>\n",
       "    <tr>\n",
       "      <th>747</th>\n",
       "      <td>Female</td>\n",
       "      <td>54</td>\n",
       "      <td>66.0</td>\n",
       "      <td>76</td>\n",
       "    </tr>\n",
       "    <tr>\n",
       "      <th>748</th>\n",
       "      <td>Female</td>\n",
       "      <td>61</td>\n",
       "      <td>66.0</td>\n",
       "      <td>91</td>\n",
       "    </tr>\n",
       "    <tr>\n",
       "      <th>749</th>\n",
       "      <td>Male</td>\n",
       "      <td>59</td>\n",
       "      <td>66.0</td>\n",
       "      <td>94</td>\n",
       "    </tr>\n",
       "    <tr>\n",
       "      <th>750</th>\n",
       "      <td>Female</td>\n",
       "      <td>57</td>\n",
       "      <td>66.0</td>\n",
       "      <td>64</td>\n",
       "    </tr>\n",
       "    <tr>\n",
       "      <th>751</th>\n",
       "      <td>Male</td>\n",
       "      <td>36</td>\n",
       "      <td>66.0</td>\n",
       "      <td>69</td>\n",
       "    </tr>\n",
       "  </tbody>\n",
       "</table>\n",
       "<p>100 rows × 4 columns</p>\n",
       "</div>"
      ],
      "text/plain": [
       "     Gender Age  Annual Income (k$) Spending Score (1-100)\n",
       "652  Female  33                41.0                     66\n",
       "653    Male  43               106.0                     60\n",
       "654    Male  55                99.0                     60\n",
       "655    Male  33                51.0                     77\n",
       "656  Female  70               109.0                     66\n",
       "..      ...  ..                 ...                    ...\n",
       "747  Female  54                66.0                     76\n",
       "748  Female  61                66.0                     91\n",
       "749    Male  59                66.0                     94\n",
       "750  Female  57                66.0                     64\n",
       "751    Male  36                66.0                     69\n",
       "\n",
       "[100 rows x 4 columns]"
      ]
     },
     "execution_count": 20,
     "metadata": {},
     "output_type": "execute_result"
    }
   ],
   "source": [
    "#Verifica todos los cambios realizados imprimiendo las ultimas 100 filas del dataset\n",
    "df_copy.tail(100)"
   ]
  },
  {
   "cell_type": "markdown",
   "metadata": {},
   "source": [
    "## Justificación\n"
   ]
  },
  {
   "cell_type": "markdown",
   "metadata": {},
   "source": [
    "Se decidió reemplazar los valores nulos en Age con la moda, es decir el valor más frecuente, ya que los clientes cuyas edades faltan tienen una alta probabilidad de pertenecer al grupo de edad más frecuente. Además, se está alterando mínimamente la distribución general de la edad. Para el caso de los ingresos anuales se decidió reemplazarlos por la media, ya que estos al ser un indicador de la capacidad económica del cliente, podrían correlacionarse con su potencial de gasto. Reemplazar los valores faltantes por la media asegura que se conserva la distribución general de ingresos del conjunto de datos, lo cual es importante para cualquier análisis posterior sobre la relación entre ingresos y lealtad del cliente. Finalmente para la puntuación de gasto se decidió eliminar las filas con valores faltantes, ya que esta es crucial para el análisis, y por lo tanto el método de imputación podría introducir sesgos. "
   ]
  },
  {
   "cell_type": "markdown",
   "metadata": {
    "id": "VOtgY0XOFYVd"
   },
   "source": [
    "**Muy bien⚡🤖!**  Ahora, tenemos un *dataset* sin valores perdidos."
   ]
  },
  {
   "cell_type": "markdown",
   "metadata": {
    "id": "h57v0_22FbPJ"
   },
   "source": [
    "###**Corregir formato de datos**\n",
    "El último paso en la limpieza de datos es verificar y asegurarse de que todos los datos estén en el formato correcto (*int*, *float*, *text* u otro). Ejecuta los pasos necesarios para cumplir con esta tarea y guíate con la tabla que contiene las descripciones de las variables al principio de este notebook."
   ]
  },
  {
   "cell_type": "code",
   "execution_count": 21,
   "metadata": {
    "id": "Uno5sO3GF-ZO"
   },
   "outputs": [],
   "source": [
    "# Escribe el código necesario para cumplir lo anterior.\n",
    "df_copy = df_copy.convert_dtypes()\n",
    "df_copy['Age'] = df_copy['Age'].astype('Int64')\n",
    "df_copy['Annual Income (k$)'] = df_copy['Annual Income (k$)'].astype('Int64')\n",
    "df_copy['Spending Score (1-100)'] = df_copy['Spending Score (1-100)'].astype('Int64')"
   ]
  },
  {
   "cell_type": "code",
   "execution_count": 22,
   "metadata": {
    "id": "EXWVXvqgG31X",
    "scrolled": true
   },
   "outputs": [
    {
     "data": {
      "text/plain": [
       "Gender                    string[python]\n",
       "Age                                Int64\n",
       "Annual Income (k$)                 Int64\n",
       "Spending Score (1-100)             Int64\n",
       "dtype: object"
      ]
     },
     "execution_count": 22,
     "metadata": {},
     "output_type": "execute_result"
    }
   ],
   "source": [
    "# Revisa los tipos de datos de cada variable después de la conversión\n",
    "df_copy.dtypes"
   ]
  },
  {
   "cell_type": "markdown",
   "metadata": {
    "id": "6ocNsOmXHCeU"
   },
   "source": [
    "**Excelente 😎🌻!**  Ahora, ya tenemos el conjunto de datos limpio, sin valores perdidos y con todos los datos en su formato adecuado."
   ]
  },
  {
   "cell_type": "markdown",
   "metadata": {
    "id": "LO6fJqLEKrck"
   },
   "source": [
    "##**Binary Encoding**\n",
    " Esta estrategia consiste en representar cada categoría como una secuencia binaria única. En lugar de crear una columna separada para cada categoría, como en el one-hot encoding, la codificación binaria asigna un número entero único a cada categoría y luego representa este número en su forma binaria. Investiga como usar un labelEncoder de la librería de Scikit-Learn para cambiar la variable Gender."
   ]
  },
  {
   "cell_type": "code",
   "execution_count": 23,
   "metadata": {
    "id": "tLwFRjqlKqwl"
   },
   "outputs": [],
   "source": [
    "# Escribe el código necesario para cumplir lo anterior.\n",
    "# Haz todo el proceso en la misma columna, no crees una nueva.\n",
    "#0 -> Female\n",
    "#1 -> Male\n",
    "from sklearn.preprocessing import LabelEncoder\n",
    "\n",
    "label_encoder = LabelEncoder()\n",
    "\n",
    "df_copy['Gender'] = label_encoder.fit_transform(df_copy['Gender'])\n",
    "df_copy['Gender'] = df_copy['Gender'].astype('Int64')"
   ]
  },
  {
   "cell_type": "markdown",
   "metadata": {
    "id": "dYNIpBg0PaYS"
   },
   "source": [
    "##**Estandarización de los datos**"
   ]
  },
  {
   "cell_type": "code",
   "execution_count": 24,
   "metadata": {
    "id": "sPzYoyNAQFtx"
   },
   "outputs": [
    {
     "data": {
      "text/plain": [
       "Int64Dtype()"
      ]
     },
     "execution_count": 24,
     "metadata": {},
     "output_type": "execute_result"
    }
   ],
   "source": [
    "#Convierte los valores de la columna de Annual Income (k$) a miles\n",
    "#Asegúrate que después de la operación, la columna quede con el tipo de dato adecuado\n",
    "df_copy['Annual Income (k$)'] = df_copy['Annual Income (k$)'] * 1000\n",
    "df_copy['Annual Income (k$)'].dtypes"
   ]
  },
  {
   "cell_type": "code",
   "execution_count": 25,
   "metadata": {
    "id": "byufLEiyRb8D"
   },
   "outputs": [
    {
     "data": {
      "text/html": [
       "<div>\n",
       "<style scoped>\n",
       "    .dataframe tbody tr th:only-of-type {\n",
       "        vertical-align: middle;\n",
       "    }\n",
       "\n",
       "    .dataframe tbody tr th {\n",
       "        vertical-align: top;\n",
       "    }\n",
       "\n",
       "    .dataframe thead th {\n",
       "        text-align: right;\n",
       "    }\n",
       "</style>\n",
       "<table border=\"1\" class=\"dataframe\">\n",
       "  <thead>\n",
       "    <tr style=\"text-align: right;\">\n",
       "      <th></th>\n",
       "      <th>Gender</th>\n",
       "      <th>Age</th>\n",
       "      <th>Annual Income (k$)</th>\n",
       "      <th>Spending Score (1-100)</th>\n",
       "    </tr>\n",
       "  </thead>\n",
       "  <tbody>\n",
       "    <tr>\n",
       "      <th>0</th>\n",
       "      <td>1</td>\n",
       "      <td>19</td>\n",
       "      <td>15000</td>\n",
       "      <td>39</td>\n",
       "    </tr>\n",
       "    <tr>\n",
       "      <th>1</th>\n",
       "      <td>1</td>\n",
       "      <td>21</td>\n",
       "      <td>15000</td>\n",
       "      <td>81</td>\n",
       "    </tr>\n",
       "    <tr>\n",
       "      <th>2</th>\n",
       "      <td>0</td>\n",
       "      <td>20</td>\n",
       "      <td>16000</td>\n",
       "      <td>6</td>\n",
       "    </tr>\n",
       "    <tr>\n",
       "      <th>3</th>\n",
       "      <td>0</td>\n",
       "      <td>23</td>\n",
       "      <td>16000</td>\n",
       "      <td>77</td>\n",
       "    </tr>\n",
       "    <tr>\n",
       "      <th>4</th>\n",
       "      <td>0</td>\n",
       "      <td>31</td>\n",
       "      <td>17000</td>\n",
       "      <td>40</td>\n",
       "    </tr>\n",
       "  </tbody>\n",
       "</table>\n",
       "</div>"
      ],
      "text/plain": [
       "   Gender  Age  Annual Income (k$)  Spending Score (1-100)\n",
       "0       1   19               15000                      39\n",
       "1       1   21               15000                      81\n",
       "2       0   20               16000                       6\n",
       "3       0   23               16000                      77\n",
       "4       0   31               17000                      40"
      ]
     },
     "execution_count": 25,
     "metadata": {},
     "output_type": "execute_result"
    }
   ],
   "source": [
    "#Imprime las primeras filas del dataset para ver los cambios\n",
    "df_copy.head()"
   ]
  },
  {
   "cell_type": "markdown",
   "metadata": {
    "id": "l9HWe2X2Xm_R"
   },
   "source": [
    "##**Encontrando el valor del gasto de los clientes en el año 2023**\n",
    "Junto a tu equipo de finanzas han encontrado que el valor aproximado que gastaron tus clientes durante el 2023, puede calcularse a partir de sus ingresos anuales y puntaje de gasto, por lo que a continuación harás las operaciones necesarias para encontrarlo."
   ]
  },
  {
   "cell_type": "code",
   "execution_count": 26,
   "metadata": {
    "id": "Kl6wMAV2s18j"
   },
   "outputs": [],
   "source": [
    "# Calcula la mitad de cada valor de Spending Score (1-100) y guárdalos en una variable llamada mid_score\n",
    "mid_score = df_copy['Spending Score (1-100)']/2"
   ]
  },
  {
   "cell_type": "code",
   "execution_count": 27,
   "metadata": {
    "id": "vAxcP_Nes3u7"
   },
   "outputs": [],
   "source": [
    "# Calcula el producto entre Annual Income (k$) y el porcentaje que representa mid_score,\n",
    "# Luego asigna estos valores a una nueva columna llamada Spending Value (2023)\n",
    "prod = df_copy['Annual Income (k$)']*(mid_score/100)\n",
    "df_copy['Spending Value (2023)'] = prod"
   ]
  },
  {
   "cell_type": "code",
   "execution_count": 28,
   "metadata": {
    "id": "-cJITJVKX0cB"
   },
   "outputs": [
    {
     "data": {
      "text/html": [
       "<div>\n",
       "<style scoped>\n",
       "    .dataframe tbody tr th:only-of-type {\n",
       "        vertical-align: middle;\n",
       "    }\n",
       "\n",
       "    .dataframe tbody tr th {\n",
       "        vertical-align: top;\n",
       "    }\n",
       "\n",
       "    .dataframe thead th {\n",
       "        text-align: right;\n",
       "    }\n",
       "</style>\n",
       "<table border=\"1\" class=\"dataframe\">\n",
       "  <thead>\n",
       "    <tr style=\"text-align: right;\">\n",
       "      <th></th>\n",
       "      <th>Gender</th>\n",
       "      <th>Age</th>\n",
       "      <th>Annual Income (k$)</th>\n",
       "      <th>Spending Score (1-100)</th>\n",
       "      <th>Spending Value (2023)</th>\n",
       "    </tr>\n",
       "  </thead>\n",
       "  <tbody>\n",
       "    <tr>\n",
       "      <th>0</th>\n",
       "      <td>1</td>\n",
       "      <td>19</td>\n",
       "      <td>15000</td>\n",
       "      <td>39</td>\n",
       "      <td>2925.0</td>\n",
       "    </tr>\n",
       "    <tr>\n",
       "      <th>1</th>\n",
       "      <td>1</td>\n",
       "      <td>21</td>\n",
       "      <td>15000</td>\n",
       "      <td>81</td>\n",
       "      <td>6075.0</td>\n",
       "    </tr>\n",
       "    <tr>\n",
       "      <th>2</th>\n",
       "      <td>0</td>\n",
       "      <td>20</td>\n",
       "      <td>16000</td>\n",
       "      <td>6</td>\n",
       "      <td>480.0</td>\n",
       "    </tr>\n",
       "    <tr>\n",
       "      <th>3</th>\n",
       "      <td>0</td>\n",
       "      <td>23</td>\n",
       "      <td>16000</td>\n",
       "      <td>77</td>\n",
       "      <td>6160.0</td>\n",
       "    </tr>\n",
       "    <tr>\n",
       "      <th>4</th>\n",
       "      <td>0</td>\n",
       "      <td>31</td>\n",
       "      <td>17000</td>\n",
       "      <td>40</td>\n",
       "      <td>3400.0</td>\n",
       "    </tr>\n",
       "  </tbody>\n",
       "</table>\n",
       "</div>"
      ],
      "text/plain": [
       "   Gender  Age  Annual Income (k$)  Spending Score (1-100)  \\\n",
       "0       1   19               15000                      39   \n",
       "1       1   21               15000                      81   \n",
       "2       0   20               16000                       6   \n",
       "3       0   23               16000                      77   \n",
       "4       0   31               17000                      40   \n",
       "\n",
       "   Spending Value (2023)  \n",
       "0                 2925.0  \n",
       "1                 6075.0  \n",
       "2                  480.0  \n",
       "3                 6160.0  \n",
       "4                 3400.0  "
      ]
     },
     "execution_count": 28,
     "metadata": {},
     "output_type": "execute_result"
    }
   ],
   "source": [
    "# Imprime las primeras filas del DataFrame para verificar los resultados\n",
    "df_copy.head()"
   ]
  },
  {
   "cell_type": "markdown",
   "metadata": {
    "id": "a4kEQpUw3m22"
   },
   "source": [
    "##**Análisis de outliers**"
   ]
  },
  {
   "cell_type": "code",
   "execution_count": 29,
   "metadata": {
    "id": "A5diJhcc5QQv"
   },
   "outputs": [
    {
     "data": {
      "image/png": "[encoded data removed]",
      "text/plain": [
       "<Figure size 1000x600 with 1 Axes>"
      ]
     },
     "metadata": {},
     "output_type": "display_data"
    }
   ],
   "source": [
    "# Genera un gráfico de caja (boxplot) para cada columna en el data frame df_copy\n",
    "# Si encuentras outliers, elimínalos solo si representan un porcentaje menor o igual al 4%\n",
    "column_types = df_copy.dtypes\n",
    "columns = column_types[(column_types != 'string[python]')].index.tolist()\n",
    "\n",
    "plt.figure(figsize=(10, 6))\n",
    "df_copy[columns].boxplot()\n",
    "\n",
    "plt.title('Diagrama de Cajas')\n",
    "plt.xticks(rotation=45)\n",
    "plt.show()"
   ]
  },
  {
   "cell_type": "code",
   "execution_count": 30,
   "metadata": {},
   "outputs": [],
   "source": [
    "def outliersFunction(atr):\n",
    "    arr1 = df_copy[atr].values\n",
    "    q1 = np.quantile(arr1, 0.25)\n",
    "    q3 = np.quantile(arr1, 0.75)\n",
    "    iqr = q3 - q1\n",
    "    upper_bound = q3 + (1.5 * iqr)\n",
    "    lower_bound = q1 - (1.5 * iqr)\n",
    "\n",
    "    outliers = arr1[(arr1 <= lower_bound) | (arr1 >= upper_bound)]\n",
    "    total_values = df_copy[atr].count()\n",
    "    percentage_of_outliers = (outliers.size * 100) / total_values\n",
    "    \n",
    "    return outliers, percentage_of_outliers\n"
   ]
  },
  {
   "cell_type": "code",
   "execution_count": 31,
   "metadata": {},
   "outputs": [
    {
     "name": "stdout",
     "output_type": "stream",
     "text": [
      "Columna Gender: Outliers eliminados, porcentaje de outliers = 0.00%.\n",
      "Columna Age: Outliers eliminados, porcentaje de outliers = 0.00%.\n",
      "Columna Annual Income (k$): Outliers eliminados, porcentaje de outliers = 0.00%.\n",
      "Columna Spending Value (2023): Outliers eliminados, porcentaje de outliers = 0.00%.\n"
     ]
    }
   ],
   "source": [
    "columns = column_types[(column_types != 'string[python]') & (column_types != 'category') & (column_types != 'bool')].index.tolist()\n",
    "for col in columns:\n",
    "    outliers, percentage = outliersFunction(col)\n",
    "    if percentage <= 4:  \n",
    "        df_copy = df_copy.loc[~df_copy[col].isin(outliers)]\n",
    "        print(f\"Columna {col}: Outliers eliminados, porcentaje de outliers = {percentage:.2f}%.\")\n"
   ]
  },
  {
   "cell_type": "markdown",
   "metadata": {
    "id": "R21i_RDRLl2f"
   },
   "source": [
    "##**Análisis de correlación de las variables**"
   ]
  },
  {
   "cell_type": "code",
   "execution_count": 32,
   "metadata": {
    "id": "w6HhI_WWLqgL"
   },
   "outputs": [
    {
     "data": {
      "image/png": "[encoded data removed]",
      "text/plain": [
       "<Figure size 1400x1200 with 2 Axes>"
      ]
     },
     "metadata": {},
     "output_type": "display_data"
    }
   ],
   "source": [
    "# Utiliza la biblioteca Seaborn para crear un mapa de calor (heatmap) o matriz de correlación de las variables del dataset.\n",
    "corr = df_copy.corr()\n",
    "\n",
    "plt.figure(figsize=(14, 12))  \n",
    "sb.heatmap(corr, annot=True, fmt=\".2f\", cmap='coolwarm', cbar=True, square=True)\n",
    "\n",
    "plt.show()"
   ]
  },
  {
   "cell_type": "code",
   "execution_count": 33,
   "metadata": {
    "id": "qSxwAp2HMTlF"
   },
   "outputs": [
    {
     "data": {
      "image/png": "[encoded data removed]",
      "text/plain": [
       "<Figure size 1000x800 with 1 Axes>"
      ]
     },
     "metadata": {},
     "output_type": "display_data"
    }
   ],
   "source": [
    "#Ahora grafica la correlación que tiene cada una de ellas contra la variable Spending Score(1-100) y organízalas de mayor a menor.\n",
    "spending_score_correlation = corr['Spending Score (1-100)'].drop('Spending Score (1-100)')\n",
    "\n",
    "spending_score_correlation_sorted = spending_score_correlation.sort_values(ascending=False)\n",
    "\n",
    "plt.figure(figsize=(10, 8))\n",
    "sb.barplot(x=spending_score_correlation_sorted.values, y=spending_score_correlation_sorted.index, palette='viridis')\n",
    "plt.title('Correlación de Variables con el Spending Score')\n",
    "plt.xlabel('Coeficiente de Correlación')\n",
    "plt.ylabel('Variables')\n",
    "\n",
    "plt.show()"
   ]
  },
  {
   "cell_type": "markdown",
   "metadata": {
    "id": "l3SsV9RKPXtI"
   },
   "source": [
    "## **Agrupación por intervalos de la variable target**\n",
    "Cuando los valores de una variable son muchos, conviene agrupar los datos en intervalos o clases para así realizar un mejor análisis e interpretación de ellos."
   ]
  },
  {
   "cell_type": "code",
   "execution_count": 34,
   "metadata": {
    "id": "cksZ_OGfW57H"
   },
   "outputs": [
    {
     "data": {
      "text/html": [
       "<div>\n",
       "<style scoped>\n",
       "    .dataframe tbody tr th:only-of-type {\n",
       "        vertical-align: middle;\n",
       "    }\n",
       "\n",
       "    .dataframe tbody tr th {\n",
       "        vertical-align: top;\n",
       "    }\n",
       "\n",
       "    .dataframe thead th {\n",
       "        text-align: right;\n",
       "    }\n",
       "</style>\n",
       "<table border=\"1\" class=\"dataframe\">\n",
       "  <thead>\n",
       "    <tr style=\"text-align: right;\">\n",
       "      <th></th>\n",
       "      <th>Gender</th>\n",
       "      <th>Age</th>\n",
       "      <th>Annual Income (k$)</th>\n",
       "      <th>Spending Score (1-100)</th>\n",
       "      <th>Spending Value (2023)</th>\n",
       "      <th>Spending Score_encoded</th>\n",
       "    </tr>\n",
       "  </thead>\n",
       "  <tbody>\n",
       "    <tr>\n",
       "      <th>0</th>\n",
       "      <td>1</td>\n",
       "      <td>19</td>\n",
       "      <td>15000</td>\n",
       "      <td>39</td>\n",
       "      <td>2925.0</td>\n",
       "      <td>1</td>\n",
       "    </tr>\n",
       "    <tr>\n",
       "      <th>1</th>\n",
       "      <td>1</td>\n",
       "      <td>21</td>\n",
       "      <td>15000</td>\n",
       "      <td>81</td>\n",
       "      <td>6075.0</td>\n",
       "      <td>4</td>\n",
       "    </tr>\n",
       "    <tr>\n",
       "      <th>2</th>\n",
       "      <td>0</td>\n",
       "      <td>20</td>\n",
       "      <td>16000</td>\n",
       "      <td>6</td>\n",
       "      <td>480.0</td>\n",
       "      <td>0</td>\n",
       "    </tr>\n",
       "    <tr>\n",
       "      <th>3</th>\n",
       "      <td>0</td>\n",
       "      <td>23</td>\n",
       "      <td>16000</td>\n",
       "      <td>77</td>\n",
       "      <td>6160.0</td>\n",
       "      <td>3</td>\n",
       "    </tr>\n",
       "    <tr>\n",
       "      <th>4</th>\n",
       "      <td>0</td>\n",
       "      <td>31</td>\n",
       "      <td>17000</td>\n",
       "      <td>40</td>\n",
       "      <td>3400.0</td>\n",
       "      <td>1</td>\n",
       "    </tr>\n",
       "  </tbody>\n",
       "</table>\n",
       "</div>"
      ],
      "text/plain": [
       "   Gender  Age  Annual Income (k$)  Spending Score (1-100)  \\\n",
       "0       1   19               15000                      39   \n",
       "1       1   21               15000                      81   \n",
       "2       0   20               16000                       6   \n",
       "3       0   23               16000                      77   \n",
       "4       0   31               17000                      40   \n",
       "\n",
       "   Spending Value (2023)  Spending Score_encoded  \n",
       "0                 2925.0                       1  \n",
       "1                 6075.0                       4  \n",
       "2                  480.0                       0  \n",
       "3                 6160.0                       3  \n",
       "4                 3400.0                       1  "
      ]
     },
     "execution_count": 34,
     "metadata": {},
     "output_type": "execute_result"
    }
   ],
   "source": [
    "#Genera 5 intervalos para agrupar la variable Spending Score (1-100)\n",
    "#Guárdalos en una nueva columna que se llame Spending Score_encoded\n",
    "#Verifica que la nueva columna sea de tipo int\n",
    "\n",
    "#0-> 0-20\n",
    "#1-> 20-40\n",
    "#2-> 40-60\n",
    "#3-> 60-80\n",
    "#4-> 80-100\n",
    "\n",
    "bins = [0, 20, 40, 60, 80, 100]\n",
    "labels = [0, 1, 2, 3, 4]\n",
    "\n",
    "df_copy['Spending Score_encoded'] = pd.cut(df_copy['Spending Score (1-100)'], bins=bins, labels=labels, include_lowest=True)\n",
    "\n",
    "df_copy['Spending Score_encoded'] = df_copy['Spending Score_encoded'].astype('Int64')\n",
    "\n",
    "df_copy.head()"
   ]
  },
  {
   "cell_type": "code",
   "execution_count": 35,
   "metadata": {
    "id": "GVD6oY2rAvn4"
   },
   "outputs": [
    {
     "data": {
      "text/html": [
       "<div>\n",
       "<style scoped>\n",
       "    .dataframe tbody tr th:only-of-type {\n",
       "        vertical-align: middle;\n",
       "    }\n",
       "\n",
       "    .dataframe tbody tr th {\n",
       "        vertical-align: top;\n",
       "    }\n",
       "\n",
       "    .dataframe thead th {\n",
       "        text-align: right;\n",
       "    }\n",
       "</style>\n",
       "<table border=\"1\" class=\"dataframe\">\n",
       "  <thead>\n",
       "    <tr style=\"text-align: right;\">\n",
       "      <th></th>\n",
       "      <th>Gender</th>\n",
       "      <th>Age</th>\n",
       "      <th>Annual Income (k$)</th>\n",
       "      <th>Spending Score (1-100)</th>\n",
       "      <th>Spending Value (2023)</th>\n",
       "      <th>Spending Score_encoded</th>\n",
       "      <th>Age_encoded</th>\n",
       "    </tr>\n",
       "  </thead>\n",
       "  <tbody>\n",
       "    <tr>\n",
       "      <th>0</th>\n",
       "      <td>1</td>\n",
       "      <td>19</td>\n",
       "      <td>15000</td>\n",
       "      <td>39</td>\n",
       "      <td>2925.0</td>\n",
       "      <td>1</td>\n",
       "      <td>0</td>\n",
       "    </tr>\n",
       "    <tr>\n",
       "      <th>1</th>\n",
       "      <td>1</td>\n",
       "      <td>21</td>\n",
       "      <td>15000</td>\n",
       "      <td>81</td>\n",
       "      <td>6075.0</td>\n",
       "      <td>4</td>\n",
       "      <td>0</td>\n",
       "    </tr>\n",
       "    <tr>\n",
       "      <th>2</th>\n",
       "      <td>0</td>\n",
       "      <td>20</td>\n",
       "      <td>16000</td>\n",
       "      <td>6</td>\n",
       "      <td>480.0</td>\n",
       "      <td>0</td>\n",
       "      <td>0</td>\n",
       "    </tr>\n",
       "    <tr>\n",
       "      <th>3</th>\n",
       "      <td>0</td>\n",
       "      <td>23</td>\n",
       "      <td>16000</td>\n",
       "      <td>77</td>\n",
       "      <td>6160.0</td>\n",
       "      <td>3</td>\n",
       "      <td>0</td>\n",
       "    </tr>\n",
       "    <tr>\n",
       "      <th>4</th>\n",
       "      <td>0</td>\n",
       "      <td>31</td>\n",
       "      <td>17000</td>\n",
       "      <td>40</td>\n",
       "      <td>3400.0</td>\n",
       "      <td>1</td>\n",
       "      <td>1</td>\n",
       "    </tr>\n",
       "  </tbody>\n",
       "</table>\n",
       "</div>"
      ],
      "text/plain": [
       "   Gender  Age  Annual Income (k$)  Spending Score (1-100)  \\\n",
       "0       1   19               15000                      39   \n",
       "1       1   21               15000                      81   \n",
       "2       0   20               16000                       6   \n",
       "3       0   23               16000                      77   \n",
       "4       0   31               17000                      40   \n",
       "\n",
       "   Spending Value (2023)  Spending Score_encoded  Age_encoded  \n",
       "0                 2925.0                       1            0  \n",
       "1                 6075.0                       4            0  \n",
       "2                  480.0                       0            0  \n",
       "3                 6160.0                       3            0  \n",
       "4                 3400.0                       1            1  "
      ]
     },
     "execution_count": 35,
     "metadata": {},
     "output_type": "execute_result"
    }
   ],
   "source": [
    "#Genera 5 intervalos para agrupar la variable Age\n",
    "#Guárdalos en una nueva columna que se llame Age_encoded\n",
    "#Verifica que la nueva columna sea de tipo int\n",
    "\n",
    "#0-> 18-28\n",
    "#1-> 28-38\n",
    "#2-> 38-48\n",
    "#3-> 48-58\n",
    "#4-> 58-70\n",
    "\n",
    "bins = [18, 28, 38, 48, 58, 70]\n",
    "labels = [0, 1, 2, 3, 4]\n",
    "\n",
    "df_copy['Age_encoded'] = pd.cut(df_copy['Age'], bins=bins, labels=labels, include_lowest=True)\n",
    "\n",
    "df_copy['Age_encoded'] = df_copy['Age_encoded'].astype('Int64')\n",
    "\n",
    "df_copy.head()"
   ]
  },
  {
   "cell_type": "code",
   "execution_count": 36,
   "metadata": {},
   "outputs": [
    {
     "data": {
      "text/plain": [
       "Gender                      Int64\n",
       "Age                         Int64\n",
       "Annual Income (k$)          Int64\n",
       "Spending Score (1-100)      Int64\n",
       "Spending Value (2023)     Float64\n",
       "Spending Score_encoded      Int64\n",
       "Age_encoded                 Int64\n",
       "dtype: object"
      ]
     },
     "execution_count": 36,
     "metadata": {},
     "output_type": "execute_result"
    }
   ],
   "source": [
    "df_copy.dtypes"
   ]
  },
  {
   "cell_type": "markdown",
   "metadata": {
    "id": "-Cau1TqP5-Ph"
   },
   "source": [
    "## **Análisis Univariado**\n",
    "Incluye:\n",
    "+ Medidas de tendencia central: media, mediana, moda.\n",
    "+ Medidas de dispersión: rango, variance, valor máximo y mínimo, cuartiles (incluyendo rango intercuartil) y desviación estándar.\n",
    "\n",
    "También se pueden se pueden usar gráficos como:\n",
    "+ Histogramas.\n",
    "+ Gráficos de barras.\n",
    "+ Gráficos circulares."
   ]
  },
  {
   "cell_type": "code",
   "execution_count": 37,
   "metadata": {
    "id": "tUialbMqQIF_"
   },
   "outputs": [
    {
     "name": "stdout",
     "output_type": "stream",
     "text": [
      "Mode of Gender:1 -> Male\n",
      "Mean of Age: 42.51\n",
      "Mode of Age: 32\n",
      "Mean of Annual Income (k$): 65974.73\n",
      "Mean of Spending Score (1-100): 71.03\n",
      "Mean of Spending Value (2023): 23658.44\n",
      "Mode of Spending Score_encoded: 3 -> 60-80\n",
      "Mode of Age_encoded: 1 -> 28-38\n"
     ]
    }
   ],
   "source": [
    "# Obtén algunas estadísticas básicas de tendencia central para cada una de las variables del dataset\n",
    "gender_mode = df_copy['Gender'].mode()[0]\n",
    "age_mean = df_copy['Age'].mean()\n",
    "age_mode = df_copy['Age'].mode()[0]\n",
    "income_mean = df_copy['Annual Income (k$)'].mean()\n",
    "spending_score_mean = df_copy['Spending Score (1-100)'].mean()\n",
    "spending_value_mean = df_copy['Spending Value (2023)'].mean()\n",
    "score_encoded_mode = df_copy['Spending Score_encoded'].mode()[0]\n",
    "age_encoded_mode = df_copy['Age_encoded'].mode()[0]\n",
    "\n",
    "print(f\"Mode of Gender:{gender_mode} -> {'Male' if gender_mode == 1 else 'Female'}\")\n",
    "print(f\"Mean of Age: {age_mean:.2f}\")\n",
    "print(f\"Mode of Age: {age_mode}\")\n",
    "print(f\"Mean of Annual Income (k$): {income_mean:.2f}\")\n",
    "print(f\"Mean of Spending Score (1-100): {spending_score_mean:.2f}\")\n",
    "print(f\"Mean of Spending Value (2023): {spending_value_mean:.2f}\")\n",
    "print(f\"Mode of Spending Score_encoded: {score_encoded_mode} -> {score_encoded_mode*20}-{score_encoded_mode*20+20}\")\n",
    "print(f\"Mode of Age_encoded: {age_encoded_mode} -> {18 + age_encoded_mode*10}-{28 + age_encoded_mode*10}\")"
   ]
  },
  {
   "cell_type": "code",
   "execution_count": 38,
   "metadata": {
    "id": "N8lW-fnqBMO6"
   },
   "outputs": [
    {
     "data": {
      "image/png": "[encoded data removed]",
      "text/plain": [
       "<Figure size 800x800 with 1 Axes>"
      ]
     },
     "metadata": {},
     "output_type": "display_data"
    }
   ],
   "source": [
    "#Realiza un gráfico tipo pastel con pandas para ver como esta la distribución de la variable Age_encoded\n",
    "age_encoded_counts = df_copy['Age_encoded'].value_counts().sort_index()\n",
    "\n",
    "labels = ['18-28', '28-38', '38-48', '48-58', '58-70']\n",
    "\n",
    "pie_chart = age_encoded_counts.plot.pie(labels=labels, autopct='%1.1f%%', figsize=(8, 8), title='Distribución de Age_encoded por Rango de Edad')\n",
    "pie_chart.set_ylabel('') \n",
    "\n",
    "\n",
    "plt.show()"
   ]
  },
  {
   "cell_type": "code",
   "execution_count": 39,
   "metadata": {
    "id": "DEkBCgfrQSio"
   },
   "outputs": [
    {
     "data": {
      "image/png": "[encoded data removed]",
      "text/plain": [
       "<Figure size 800x800 with 1 Axes>"
      ]
     },
     "metadata": {},
     "output_type": "display_data"
    }
   ],
   "source": [
    "#Realiza un gráfico tipo pastel con pandas para ver como esta la distribución de la variable target\n",
    "#Usa la variable Spending Score_encoded para ello.\n",
    "spending_score_encoded_counts = df_copy['Spending Score_encoded'].value_counts().sort_index()\n",
    "\n",
    "labels = ['0-20', '20-40', '40-60', '60-80', '80-100']\n",
    "\n",
    "pie_chart = spending_score_encoded_counts.plot.pie(labels=labels, autopct='%1.1f%%', figsize=(8, 8), title='Distribución de Spending Score_encoded')\n",
    "pie_chart.set_ylabel('')\n",
    "\n",
    "plt.show()"
   ]
  },
  {
   "cell_type": "code",
   "execution_count": 42,
   "metadata": {
    "id": "iSddLo7YUdh7",
    "scrolled": false
   },
   "outputs": [
    {
     "data": {
      "image/png": "[encoded data removed]",
      "text/plain": [
       "<Figure size 1000x400 with 1 Axes>"
      ]
     },
     "metadata": {},
     "output_type": "display_data"
    },
    {
     "data": {
      "image/png": "[encoded data removed]",
      "text/plain": [
       "<Figure size 1000x400 with 1 Axes>"
      ]
     },
     "metadata": {},
     "output_type": "display_data"
    },
    {
     "data": {
      "image/png": "[encoded data removed]",
      "text/plain": [
       "<Figure size 1000x400 with 1 Axes>"
      ]
     },
     "metadata": {},
     "output_type": "display_data"
    },
    {
     "data": {
      "image/png": "[encoded data removed]",
      "text/plain": [
       "<Figure size 1000x400 with 1 Axes>"
      ]
     },
     "metadata": {},
     "output_type": "display_data"
    },
    {
     "data": {
      "image/png": "[encoded data removed]",
      "text/plain": [
       "<Figure size 1000x400 with 1 Axes>"
      ]
     },
     "metadata": {},
     "output_type": "display_data"
    },
    {
     "data": {
      "image/png": "[encoded data removed]",
      "text/plain": [
       "<Figure size 1000x400 with 1 Axes>"
      ]
     },
     "metadata": {},
     "output_type": "display_data"
    },
    {
     "data": {
      "image/png": "[encoded data removed]",
      "text/plain": [
       "<Figure size 1000x400 with 1 Axes>"
      ]
     },
     "metadata": {},
     "output_type": "display_data"
    }
   ],
   "source": [
    "#Genera un histograma para cada una de las variables numéricas, esto con el fin de ver la dispersión de los datos\n",
    "numerical_cols = df_copy.select_dtypes(include=['number']).columns\n",
    "\n",
    "for col in numerical_cols:\n",
    "    plt.figure(figsize=(10, 4))\n",
    "    plt.hist(df_copy[col], bins=20, color='blue', alpha=0.7)\n",
    "    plt.title(f'Histogram of {col}')\n",
    "    plt.xlabel(col)\n",
    "    plt.ylabel('Frequency')\n",
    "    plt.grid(True)\n",
    "    plt.show()"
   ]
  },
  {
   "cell_type": "markdown",
   "metadata": {
    "id": "gEama-GXSC-s"
   },
   "source": [
    "##**Ahora si, ¡ya puedes modelar!**\n",
    "\n",
    "**Contexto general**\n",
    "\n",
    "Aunque tu supermercado ha estado operando en un área establecida durante un tiempo, recientemente ha habido un cambio significativo en tu entorno comercial: se ha construido una nueva urbanización cerca de tu ubicación.\n",
    "\n",
    "Este desarrollo urbano ha traído consigo una afluencia de nuevos residentes, lo que significa que tu supermercado está experimentando un aumento en el tráfico de clientes.\n",
    "\n",
    "Para esta fase deberás **elegir cuál de los siguientes algoritmos aplicar dependiendo de cada caso**:\n",
    "* **Regresión lineal -->** cuando la apliques debes probar la **simple** y la **multiple**, escalando siempre los datos. Además, realiza el proceso de validación normal y compáralo con K-fold cross validation.\n",
    "* **KNN -->** antes de aplicarlo calcula el baseline y escala los datos después de realizar su respectiva partición.\n",
    "* **SVM -->** antes de aplicarlo calcula el baseline, escala los datos después de realizar su respectiva partición, y usa GridSearchCV para encontrar la mejor combinación de hiperparámetros.\n",
    "* **Decision Tree -->** antes de aplicarlo calcula el baseline, escala los datos después de realizar su respectiva partición, y usa GridSearchCV para encontrar la mejor combinación de hiperparámetros.\n",
    "\n",
    "👉 Además, deberás realizar un **informe de laboratorio (con extensión máx de 4 pág.)** que condense lo siguiente:\n",
    "\n",
    "* Interpretación de cada una de las gráficas generadas hasta el momento (fase de análisis).\n",
    "* Justificación de la elección de los algoritmos implementados en cada caso, para ello, ten en cuenta la teoría y características principales de los mismos.\n",
    "* Explicación de las métricas de evaluación arrojadas para cada algoritmo y qué combinación de parámetros o pasos hiciste para obtener el mejor modelo posible.\n",
    "* ¿Mejoraron el/los modelos del caso #1 con la aplicación del k-fold cross validation o no hubo una diferencia significativa?\n",
    "* Investiga para qué calcular el valor de baseline y que significa, ¿cómo fue la precisión de los modelos KNN, SVM y decision tree con respecto a dicho valor?\n",
    "* ¿Cuál fue el impacto del GridSearchCV en los algoritmos KNN, SVM y decision tree?, ¿Si impacto el uso de esta herramienta en sus desempeños?\n",
    "\n",
    "👀 NOTA: por favor sé concreto y no incluyas screenshot de bloques de código en tu informe, lo importante son las imágenes de las gráficas obtenidas. Coloca tu nombre y código en el encabezado, no hay necesidad de portada 😀.\n"
   ]
  },
  {
   "cell_type": "markdown",
   "metadata": {
    "id": "gURYM9IdaegT"
   },
   "source": [
    "###**Caso #1**:\n",
    "Supongamos que estamos a mitad del año 2023, y como propietario de tu negocio estas entusiasmado por conocer cuál será el valor aproximado de gasto que tus nuevos clientes alcanzarán al final del mismo, esto basándote en los datos de tus clientes actuales. Esta predicción será fundamental para ayudarte a tomar decisiones de negocio relacionadas con inventario, colaboradores y proveedores.\n",
    "\n",
    "Para ello, deberás eligir el mejor algoritmo que se adapte a esta situación. Es importante que compares e interpretes las métricas arrojadas tanto para el dataset de entrenamiento, como el de test (usa la partición 80-20). Adicionalmente, especifica si este es un problema de clasificación o regresión, y por qué."
   ]
  },
  {
   "cell_type": "markdown",
   "metadata": {
    "id": "zvYk_yciWCNP"
   },
   "source": [
    "####**Probando X modelo**"
   ]
  },
  {
   "cell_type": "markdown",
   "metadata": {
    "id": "gtI4H9YuWG-n"
   },
   "source": [
    "#####**Creación del modelo**"
   ]
  },
  {
   "cell_type": "code",
   "execution_count": null,
   "metadata": {
    "id": "0TXZRGyOOyFL"
   },
   "outputs": [],
   "source": []
  },
  {
   "cell_type": "markdown",
   "metadata": {
    "id": "e4td4cPRXoMC"
   },
   "source": [
    "#####**Evaluación del modelo: training dataset**"
   ]
  },
  {
   "cell_type": "code",
   "execution_count": null,
   "metadata": {
    "id": "bPVH0N17O37t"
   },
   "outputs": [],
   "source": []
  },
  {
   "cell_type": "markdown",
   "metadata": {
    "id": "YXenoKO0YOmB"
   },
   "source": [
    "#####**Evaluación del modelo: test dataset**"
   ]
  },
  {
   "cell_type": "code",
   "execution_count": null,
   "metadata": {
    "id": "i2kOHjHhO6rn"
   },
   "outputs": [],
   "source": []
  },
  {
   "cell_type": "markdown",
   "metadata": {
    "id": "5F-isg1Lr1d1"
   },
   "source": [
    "#####**Usando K-fold cross validation**"
   ]
  },
  {
   "cell_type": "code",
   "execution_count": null,
   "metadata": {
    "id": "qHJpnyWZO8q-"
   },
   "outputs": [],
   "source": []
  },
  {
   "cell_type": "markdown",
   "metadata": {
    "id": "ALTx087LPKdE"
   },
   "source": [
    "####**Probando X modelo**"
   ]
  },
  {
   "cell_type": "markdown",
   "metadata": {
    "id": "mNfzwMLlPKdZ"
   },
   "source": [
    "#####**Creación del modelo**"
   ]
  },
  {
   "cell_type": "code",
   "execution_count": null,
   "metadata": {
    "id": "d2AquSKUPKdZ"
   },
   "outputs": [],
   "source": []
  },
  {
   "cell_type": "markdown",
   "metadata": {
    "id": "roqCW5L0PKdZ"
   },
   "source": [
    "#####**Evaluación del modelo: training dataset**"
   ]
  },
  {
   "cell_type": "code",
   "execution_count": null,
   "metadata": {
    "id": "gHQw_d2JPKda"
   },
   "outputs": [],
   "source": []
  },
  {
   "cell_type": "markdown",
   "metadata": {
    "id": "Ldq29PA2PKda"
   },
   "source": [
    "#####**Evaluación del modelo: test dataset**"
   ]
  },
  {
   "cell_type": "code",
   "execution_count": null,
   "metadata": {
    "id": "_vM7IZhMPKda"
   },
   "outputs": [],
   "source": []
  },
  {
   "cell_type": "markdown",
   "metadata": {
    "id": "Kii0cx-kPKda"
   },
   "source": [
    "#####**Usando K-fold cross validation**"
   ]
  },
  {
   "cell_type": "code",
   "execution_count": null,
   "metadata": {
    "id": "8AgyLIkcPKdb"
   },
   "outputs": [],
   "source": []
  },
  {
   "cell_type": "markdown",
   "metadata": {
    "id": "9ijpwALIzWXj"
   },
   "source": [
    "###**Caso #2**:\n",
    "Supongamos que por el momento tienes acceso a datos como la edad, ingreso anual y género de los nuevos clientes, pero aún no dispones de su puntaje de gasto, ya que este se define a medida que pasa el tiempo. Sin embargo, se te ocurre que puedes abordar esta situación usando los datos de aquellos clientes antiguos (porque ya tienen un puntaje de gasto asignado). La idea entonces es que eligas un algoritmo que te permita hacer predicciones basadas en características similares de clientes existentes.\n",
    "\n",
    "Es importante que compares e interpretes las métricas arrojadas tanto para el dataset de entrenamiento, como el de test (usa la partición 80-20). Usa la variable de puntaje de gasto codificada. Adicionalmente, especifica si este es un problema de clasificación o regresión, y por qué."
   ]
  },
  {
   "cell_type": "markdown",
   "metadata": {
    "id": "-sv92uZF_xz8"
   },
   "source": [
    "####**Probando X modelo**"
   ]
  },
  {
   "cell_type": "markdown",
   "metadata": {
    "id": "9YYhAWEVSZhJ"
   },
   "source": [
    "#####**Calculando el baseline**"
   ]
  },
  {
   "cell_type": "code",
   "execution_count": null,
   "metadata": {
    "id": "_H9TlgO0PUY8"
   },
   "outputs": [],
   "source": []
  },
  {
   "cell_type": "markdown",
   "metadata": {
    "id": "NuQmqiVeQ04q"
   },
   "source": [
    "#####**Creando el modelo**"
   ]
  },
  {
   "cell_type": "code",
   "execution_count": null,
   "metadata": {
    "id": "By0QvjOTPZtc"
   },
   "outputs": [],
   "source": []
  },
  {
   "cell_type": "markdown",
   "metadata": {
    "id": "KHs_DdgiOfFh"
   },
   "source": [
    "#####**Evaluación del modelo: training dataset**"
   ]
  },
  {
   "cell_type": "code",
   "execution_count": null,
   "metadata": {
    "id": "9s9x8OaKPce8"
   },
   "outputs": [],
   "source": []
  },
  {
   "cell_type": "markdown",
   "metadata": {
    "id": "M8rxdkVlRTsG"
   },
   "source": [
    "#####**Evaluación del modelo: test dataset**"
   ]
  },
  {
   "cell_type": "code",
   "execution_count": null,
   "metadata": {
    "id": "9EXjVz1MRZY-"
   },
   "outputs": [],
   "source": []
  },
  {
   "cell_type": "markdown",
   "metadata": {
    "id": "cndqt1wS-hRs"
   },
   "source": [
    "###**Caso #3:**\n",
    "Tu supermercado está considerando realizar un gran pedido de productos para el cuidado personal, pero no estás seguro si deberías enfocarte en productos diseñados para un género específico o si deberías ofrecer una variedad equilibrada para ambos géneros. Para tomar esta decisión de manera más informada, deseas predecir el género de tus nuevos clientes. Esta información te ayudará a determinar qué tipo de productos de cuidado personal podrían ser más populares entre tus clientes potenciales. Lo ideal sería usar un algoritmo que te permita encontrar un hiperplano que pueda separar efectivamente los datos de clientes en diferentes grupos basados en sus características, lo que te permitirá identificar patrones en el comportamiento de compra y tomar decisiones estratégicas sobre qué tipo de productos ofrecer.\n",
    "\n",
    "Es importante que compares e interpretes las métricas arrojadas tanto para el dataset de entrenamiento, como el de test (usa la partición 80-20). Adicionalmente, especifica si este es un problema de clasificación o regresión, y por qué."
   ]
  },
  {
   "cell_type": "markdown",
   "metadata": {
    "id": "voWZmRdfp7jz"
   },
   "source": [
    "####**Probando X modelo**"
   ]
  },
  {
   "cell_type": "markdown",
   "metadata": {
    "id": "yin0E9saoZ-0"
   },
   "source": [
    "#####**Calculando el baseline**"
   ]
  },
  {
   "cell_type": "code",
   "execution_count": null,
   "metadata": {
    "id": "D4YPvvkZodUU"
   },
   "outputs": [],
   "source": []
  },
  {
   "cell_type": "markdown",
   "metadata": {
    "id": "IZvbVVRuiWAW"
   },
   "source": [
    "#####**Creando el modelo**"
   ]
  },
  {
   "cell_type": "code",
   "execution_count": null,
   "metadata": {
    "id": "QraD_8JE-mtT"
   },
   "outputs": [],
   "source": []
  },
  {
   "cell_type": "markdown",
   "metadata": {
    "id": "Z8-RzvaKjdQK"
   },
   "source": [
    "#####**Evaluando el modelo: training dataset**"
   ]
  },
  {
   "cell_type": "code",
   "execution_count": null,
   "metadata": {
    "id": "Fln2YQ5fjcA9"
   },
   "outputs": [],
   "source": []
  },
  {
   "cell_type": "markdown",
   "metadata": {
    "id": "jlP43gRJjhts"
   },
   "source": [
    "#####**Evaluando el modelo: test dataset**"
   ]
  },
  {
   "cell_type": "code",
   "execution_count": null,
   "metadata": {
    "id": "ga2ihXJhkLrW"
   },
   "outputs": [],
   "source": []
  },
  {
   "cell_type": "markdown",
   "metadata": {
    "id": "u-2bTrJRlsA9"
   },
   "source": [
    "#####**Usando GridSearchCV para encontrar los mejores hiperparámetros**"
   ]
  },
  {
   "cell_type": "code",
   "execution_count": null,
   "metadata": {
    "id": "96hvRk_tlxwq"
   },
   "outputs": [],
   "source": []
  },
  {
   "cell_type": "markdown",
   "metadata": {
    "id": "3x4mEQ81-rGF"
   },
   "source": [
    "###**Caso #4**\n",
    "Tu supermercado está buscando formas de mejorar su estrategia de marketing y la experiencia del cliente, por lo que deseas explorar la relación entre la edad de tus clientes y su comportamiento de compra. Para abordar esta pregunta, puedes optar por una técnica que permita clasificar a tus clientes en grupos basados en su edad y analizar cómo estas segmentaciones se correlacionan con diferentes patrones de compra. La idea es que apliques un algoritmo que tenga la capacidad para estructurar los datos de manera jerárquica y facilite la comprensión de las relaciones entre las diferentes variables.\n",
    "\n",
    "Es importante que compares e interpretes las métricas arrojadas tanto para el dataset de entrenamiento, como el de test (usa la partición 80-20). Usa la variable edad codificada. Adicionalmente, especifica si este es un problema de clasificación o regresión, y por qué."
   ]
  },
  {
   "cell_type": "markdown",
   "metadata": {
    "id": "zgLAHKIx-dIl"
   },
   "source": [
    "####**Probando X modelo**"
   ]
  },
  {
   "cell_type": "markdown",
   "metadata": {
    "id": "Dl3I5VxcE0ge"
   },
   "source": [
    "#####**Calculando el baseline**"
   ]
  },
  {
   "cell_type": "code",
   "execution_count": null,
   "metadata": {
    "id": "jfG8mXyqE9gD"
   },
   "outputs": [],
   "source": []
  },
  {
   "cell_type": "markdown",
   "metadata": {
    "id": "VdzFwFEX-tzP"
   },
   "source": [
    "#####**Creando el modelo**"
   ]
  },
  {
   "cell_type": "code",
   "execution_count": null,
   "metadata": {
    "id": "ZyWYEa85-v7W"
   },
   "outputs": [],
   "source": []
  },
  {
   "cell_type": "markdown",
   "metadata": {
    "id": "JTDSRdZT-1--"
   },
   "source": [
    "#####**Evaluando el modelo: training dataset**"
   ]
  },
  {
   "cell_type": "code",
   "execution_count": null,
   "metadata": {
    "id": "C2Qak26M-8bW"
   },
   "outputs": [],
   "source": []
  },
  {
   "cell_type": "markdown",
   "metadata": {
    "id": "ttTVVJGD-9N7"
   },
   "source": [
    "#####**Evaluando el modelo: test dataset**"
   ]
  },
  {
   "cell_type": "code",
   "execution_count": null,
   "metadata": {
    "id": "7DwGmnNW_AKF"
   },
   "outputs": [],
   "source": []
  },
  {
   "cell_type": "markdown",
   "metadata": {
    "id": "Rc-X_xA5FgnF"
   },
   "source": [
    "#####**Usando GridSearchCV para encontrar los mejores hiperparámetros**"
   ]
  },
  {
   "cell_type": "code",
   "execution_count": null,
   "metadata": {
    "id": "L32I0uZLFhS4"
   },
   "outputs": [],
   "source": []
  }
 ],
 "metadata": {
  "colab": {
   "collapsed_sections": [
    "zvYk_yciWCNP",
    "ALTx087LPKdE",
    "-sv92uZF_xz8",
    "voWZmRdfp7jz",
    "zgLAHKIx-dIl"
   ],
   "provenance": [
    {
     "file_id": "https://github.com/armandoordonez/machinelearning/blob/main/Knn.ipynb",
     "timestamp": 1680828154684
    }
   ]
  },
  "kernelspec": {
   "display_name": "Python 3 (ipykernel)",
   "language": "python",
   "name": "python3"
  },
  "language_info": {
   "codemirror_mode": {
    "name": "ipython",
    "version": 3
   },
   "file_extension": ".py",
   "mimetype": "text/x-python",
   "name": "python",
   "nbconvert_exporter": "python",
   "pygments_lexer": "ipython3",
   "version": "3.11.5"
  }
 },
 "nbformat": 4,
 "nbformat_minor": 1
}
